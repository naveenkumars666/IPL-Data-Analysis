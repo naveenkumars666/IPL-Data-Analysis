{
 "cells": [
  {
   "cell_type": "markdown",
   "id": "b55b7d73",
   "metadata": {
    "papermill": {
     "duration": 0.021914,
     "end_time": "2023-06-16T16:42:52.280606",
     "exception": false,
     "start_time": "2023-06-16T16:42:52.258692",
     "status": "completed"
    },
    "tags": []
   },
   "source": [
    "# Cricket Data from 2008 to 2023\n",
    "\n",
    "- The `cricket` dataset is a comprehensive collection of data from various cricket matches. It encompasses player performances, team statistics, match results, and other relevant attributes across different formats and seasons. This dataset provides valuable insights into player and team dynamics, performance trends, and statistical patterns in the game of cricket. It serves as a valuable resource for cricket enthusiasts, analysts, and researchers interested in studying the intricacies of cricket and its impact on the sport."
   ]
  },
  {
   "cell_type": "markdown",
   "id": "f1bc634f",
   "metadata": {
    "papermill": {
     "duration": 0.022797,
     "end_time": "2023-06-16T16:42:52.326003",
     "exception": false,
     "start_time": "2023-06-16T16:42:52.303206",
     "status": "completed"
    },
    "tags": []
   },
   "source": [
    "## Data Preparation and Cleaning\n",
    "\n",
    "Well, let's begin with importing data and and perform some actions to clean data like finding if there is any missing values or any incorrect values or not \n",
    "\n",
    "Let's get started"
   ]
  },
  {
   "cell_type": "markdown",
   "id": "95c13665",
   "metadata": {
    "papermill": {
     "duration": 0.020887,
     "end_time": "2023-06-16T16:42:52.368294",
     "exception": false,
     "start_time": "2023-06-16T16:42:52.347407",
     "status": "completed"
    },
    "tags": []
   },
   "source": [
    "### Importing libraries"
   ]
  },
  {
   "cell_type": "code",
   "execution_count": 1,
   "id": "349ad00d",
   "metadata": {
    "execution": {
     "iopub.execute_input": "2023-06-16T16:42:52.413393Z",
     "iopub.status.busy": "2023-06-16T16:42:52.412719Z",
     "iopub.status.idle": "2023-06-16T16:42:52.423177Z",
     "shell.execute_reply": "2023-06-16T16:42:52.422419Z"
    },
    "papermill": {
     "duration": 0.035984,
     "end_time": "2023-06-16T16:42:52.425615",
     "exception": false,
     "start_time": "2023-06-16T16:42:52.389631",
     "status": "completed"
    },
    "tags": []
   },
   "outputs": [],
   "source": [
    "import pandas as pd\n",
    "import numpy as np"
   ]
  },
  {
   "cell_type": "markdown",
   "id": "f3e29763",
   "metadata": {
    "papermill": {
     "duration": 0.020933,
     "end_time": "2023-06-16T16:42:52.468743",
     "exception": false,
     "start_time": "2023-06-16T16:42:52.447810",
     "status": "completed"
    },
    "tags": []
   },
   "source": [
    "### Loading Dataset"
   ]
  },
  {
   "cell_type": "code",
   "execution_count": 2,
   "id": "5a2fcc7e",
   "metadata": {
    "execution": {
     "iopub.execute_input": "2023-06-16T16:42:52.513839Z",
     "iopub.status.busy": "2023-06-16T16:42:52.512850Z",
     "iopub.status.idle": "2023-06-16T16:42:52.647295Z",
     "shell.execute_reply": "2023-06-16T16:42:52.645889Z"
    },
    "papermill": {
     "duration": 0.16115,
     "end_time": "2023-06-16T16:42:52.651333",
     "exception": false,
     "start_time": "2023-06-16T16:42:52.490183",
     "status": "completed"
    },
    "tags": []
   },
   "outputs": [
    {
     "data": {
      "text/html": [
       "<div>\n",
       "<style scoped>\n",
       "    .dataframe tbody tr th:only-of-type {\n",
       "        vertical-align: middle;\n",
       "    }\n",
       "\n",
       "    .dataframe tbody tr th {\n",
       "        vertical-align: top;\n",
       "    }\n",
       "\n",
       "    .dataframe thead th {\n",
       "        text-align: right;\n",
       "    }\n",
       "</style>\n",
       "<table border=\"1\" class=\"dataframe\">\n",
       "  <thead>\n",
       "    <tr style=\"text-align: right;\">\n",
       "      <th></th>\n",
       "      <th>season</th>\n",
       "      <th>id</th>\n",
       "      <th>name</th>\n",
       "      <th>short_name</th>\n",
       "      <th>description</th>\n",
       "      <th>home_team</th>\n",
       "      <th>away_team</th>\n",
       "      <th>toss_won</th>\n",
       "      <th>decision</th>\n",
       "      <th>1st_inning_score</th>\n",
       "      <th>...</th>\n",
       "      <th>home_playx1</th>\n",
       "      <th>away_playx1</th>\n",
       "      <th>away_key_batsman</th>\n",
       "      <th>away_key_bowler</th>\n",
       "      <th>match_days</th>\n",
       "      <th>umpire1</th>\n",
       "      <th>umpire2</th>\n",
       "      <th>tv_umpire</th>\n",
       "      <th>referee</th>\n",
       "      <th>reserve_umpire</th>\n",
       "    </tr>\n",
       "  </thead>\n",
       "  <tbody>\n",
       "    <tr>\n",
       "      <th>0</th>\n",
       "      <td>NaN</td>\n",
       "      <td>1370350</td>\n",
       "      <td>Chennai Super Kings v Gujarat Titans</td>\n",
       "      <td>CSK v GT</td>\n",
       "      <td>Qualifier 1 (N), Indian Premier League at Chen...</td>\n",
       "      <td>CSK</td>\n",
       "      <td>GT</td>\n",
       "      <td>NaN</td>\n",
       "      <td>NaN</td>\n",
       "      <td>NaN</td>\n",
       "      <td>...</td>\n",
       "      <td>NaN</td>\n",
       "      <td>NaN</td>\n",
       "      <td>NaN</td>\n",
       "      <td>NaN</td>\n",
       "      <td>NaN</td>\n",
       "      <td>NaN</td>\n",
       "      <td>NaN</td>\n",
       "      <td>NaN</td>\n",
       "      <td>NaN</td>\n",
       "      <td>NaN</td>\n",
       "    </tr>\n",
       "    <tr>\n",
       "      <th>1</th>\n",
       "      <td>NaN</td>\n",
       "      <td>1370351</td>\n",
       "      <td>Lucknow Super Giants v Mumbai Indians</td>\n",
       "      <td>LSG v MI</td>\n",
       "      <td>Eliminator (N), Indian Premier League at Chenn...</td>\n",
       "      <td>LSG</td>\n",
       "      <td>MI</td>\n",
       "      <td>NaN</td>\n",
       "      <td>NaN</td>\n",
       "      <td>NaN</td>\n",
       "      <td>...</td>\n",
       "      <td>NaN</td>\n",
       "      <td>NaN</td>\n",
       "      <td>NaN</td>\n",
       "      <td>NaN</td>\n",
       "      <td>NaN</td>\n",
       "      <td>NaN</td>\n",
       "      <td>NaN</td>\n",
       "      <td>NaN</td>\n",
       "      <td>NaN</td>\n",
       "      <td>NaN</td>\n",
       "    </tr>\n",
       "    <tr>\n",
       "      <th>2</th>\n",
       "      <td>NaN</td>\n",
       "      <td>1370352</td>\n",
       "      <td>TBC v TBC</td>\n",
       "      <td>TBC v TBC</td>\n",
       "      <td>Qualifier 2 (N), Indian Premier League at Ahme...</td>\n",
       "      <td>TBA</td>\n",
       "      <td>TBA</td>\n",
       "      <td>NaN</td>\n",
       "      <td>NaN</td>\n",
       "      <td>NaN</td>\n",
       "      <td>...</td>\n",
       "      <td>NaN</td>\n",
       "      <td>NaN</td>\n",
       "      <td>NaN</td>\n",
       "      <td>NaN</td>\n",
       "      <td>NaN</td>\n",
       "      <td>NaN</td>\n",
       "      <td>NaN</td>\n",
       "      <td>NaN</td>\n",
       "      <td>NaN</td>\n",
       "      <td>NaN</td>\n",
       "    </tr>\n",
       "    <tr>\n",
       "      <th>3</th>\n",
       "      <td>NaN</td>\n",
       "      <td>1370353</td>\n",
       "      <td>TBC v TBC</td>\n",
       "      <td>TBC v TBC</td>\n",
       "      <td>Final (N), Indian Premier League at Ahmedabad,...</td>\n",
       "      <td>TBA</td>\n",
       "      <td>TBA</td>\n",
       "      <td>NaN</td>\n",
       "      <td>NaN</td>\n",
       "      <td>NaN</td>\n",
       "      <td>...</td>\n",
       "      <td>NaN</td>\n",
       "      <td>NaN</td>\n",
       "      <td>NaN</td>\n",
       "      <td>NaN</td>\n",
       "      <td>NaN</td>\n",
       "      <td>NaN</td>\n",
       "      <td>NaN</td>\n",
       "      <td>NaN</td>\n",
       "      <td>NaN</td>\n",
       "      <td>NaN</td>\n",
       "    </tr>\n",
       "    <tr>\n",
       "      <th>4</th>\n",
       "      <td>2023.0</td>\n",
       "      <td>1359544</td>\n",
       "      <td>Royal Challengers Bangalore v Gujarat Titans</td>\n",
       "      <td>RCB v GT</td>\n",
       "      <td>70th Match (N), Indian Premier League at Benga...</td>\n",
       "      <td>RCB</td>\n",
       "      <td>GT</td>\n",
       "      <td>GT</td>\n",
       "      <td>BOWL FIRST</td>\n",
       "      <td>197/5</td>\n",
       "      <td>...</td>\n",
       "      <td>Virat Kohli (UKN),Faf du Plessis (UKN),Glenn M...</td>\n",
       "      <td>Wriddhiman Saha (WK),Shubman Gill (UKN),Vijay ...</td>\n",
       "      <td>Shubman Gill,Vijay Shankar</td>\n",
       "      <td>Noor Ahmad,Rashid Khan</td>\n",
       "      <td>21 May 2023 - night match (20-over match)</td>\n",
       "      <td>Nitin Menon</td>\n",
       "      <td>Virender Sharma</td>\n",
       "      <td>Tapan Sharma</td>\n",
       "      <td>Javagal Srinath</td>\n",
       "      <td>VM  Dhokre</td>\n",
       "    </tr>\n",
       "    <tr>\n",
       "      <th>...</th>\n",
       "      <td>...</td>\n",
       "      <td>...</td>\n",
       "      <td>...</td>\n",
       "      <td>...</td>\n",
       "      <td>...</td>\n",
       "      <td>...</td>\n",
       "      <td>...</td>\n",
       "      <td>...</td>\n",
       "      <td>...</td>\n",
       "      <td>...</td>\n",
       "      <td>...</td>\n",
       "      <td>...</td>\n",
       "      <td>...</td>\n",
       "      <td>...</td>\n",
       "      <td>...</td>\n",
       "      <td>...</td>\n",
       "      <td>...</td>\n",
       "      <td>...</td>\n",
       "      <td>...</td>\n",
       "      <td>...</td>\n",
       "      <td>...</td>\n",
       "    </tr>\n",
       "    <tr>\n",
       "      <th>1027</th>\n",
       "      <td>2008.0</td>\n",
       "      <td>336012</td>\n",
       "      <td>Royal Challengers Bangalore v Mumbai Indians</td>\n",
       "      <td>RCB v MI</td>\n",
       "      <td>55th match (D/N), Indian Premier League at Ben...</td>\n",
       "      <td>RCB</td>\n",
       "      <td>MI</td>\n",
       "      <td>MI</td>\n",
       "      <td>BOWL FIRST</td>\n",
       "      <td>122/9</td>\n",
       "      <td>...</td>\n",
       "      <td>Mark Boucher (BT),Shreevats Goswami (WK),Misba...</td>\n",
       "      <td>Sanath Jayasuriya (AR),Sachin Tendulkar (BT),R...</td>\n",
       "      <td>Sanath Jayasuriya,Sachin Tendulkar</td>\n",
       "      <td>Dilhara Fernando,Dwayne Smith</td>\n",
       "      <td>28 May 2008 - day/night match (20-over match)</td>\n",
       "      <td>Billy Bowden</td>\n",
       "      <td>Arani Jayaprakash</td>\n",
       "      <td>Billy Doctrove</td>\n",
       "      <td>Sir Clive Lloyd</td>\n",
       "      <td>NaN</td>\n",
       "    </tr>\n",
       "    <tr>\n",
       "      <th>1028</th>\n",
       "      <td>2008.0</td>\n",
       "      <td>336019</td>\n",
       "      <td>Kings XI Punjab v Rajasthan Royals</td>\n",
       "      <td>KXIP v RR</td>\n",
       "      <td>56th match (N), Indian Premier League at Mohal...</td>\n",
       "      <td>KXIP</td>\n",
       "      <td>RR</td>\n",
       "      <td>RR</td>\n",
       "      <td>BOWL FIRST</td>\n",
       "      <td>221/3</td>\n",
       "      <td>...</td>\n",
       "      <td>Shaun Marsh (BT),James Hopes (AR),Yuvraj Singh...</td>\n",
       "      <td>Mohammad Kaif (BT),Niraj Patel (UKN),Younis Kh...</td>\n",
       "      <td>Niraj Patel,Yusuf Pathan</td>\n",
       "      <td>Shane Watson,Yusuf Pathan</td>\n",
       "      <td>28 May 2008 - night match (20-over match)</td>\n",
       "      <td>Krishna Hariharan</td>\n",
       "      <td>Steve Davis</td>\n",
       "      <td>Daryl Harper</td>\n",
       "      <td>Srinivas Venkataraghavan</td>\n",
       "      <td>MS Mahal</td>\n",
       "    </tr>\n",
       "    <tr>\n",
       "      <th>1029</th>\n",
       "      <td>2008.0</td>\n",
       "      <td>336038</td>\n",
       "      <td>Delhi Daredevils v Rajasthan Royals</td>\n",
       "      <td>DC v RR</td>\n",
       "      <td>1st Semi-Final (N), Indian Premier League at M...</td>\n",
       "      <td>DC</td>\n",
       "      <td>RR</td>\n",
       "      <td>DC</td>\n",
       "      <td>BOWL FIRST</td>\n",
       "      <td>192/9</td>\n",
       "      <td>...</td>\n",
       "      <td>Gautam Gambhir (BT),Virender Sehwag (BT),Shikh...</td>\n",
       "      <td>Graeme Smith (BT),Swapnil Asnodkar (BT),Sohail...</td>\n",
       "      <td>Shane Watson,Yusuf Pathan</td>\n",
       "      <td>Shane Watson,Munaf Patel</td>\n",
       "      <td>30 May 2008 - night match (20-over match)</td>\n",
       "      <td>Billy Bowden</td>\n",
       "      <td>Rudi Koertzen</td>\n",
       "      <td>Billy Doctrove</td>\n",
       "      <td>Javagal Srinath</td>\n",
       "      <td>NaN</td>\n",
       "    </tr>\n",
       "    <tr>\n",
       "      <th>1030</th>\n",
       "      <td>2008.0</td>\n",
       "      <td>336039</td>\n",
       "      <td>Chennai Super Kings v Kings XI Punjab</td>\n",
       "      <td>CSK v KXIP</td>\n",
       "      <td>2nd Semi-Final (N), Indian Premier League at M...</td>\n",
       "      <td>CSK</td>\n",
       "      <td>KXIP</td>\n",
       "      <td>KXIP</td>\n",
       "      <td>BAT FIRST</td>\n",
       "      <td>112/8</td>\n",
       "      <td>...</td>\n",
       "      <td>Parthiv Patel (WK),Vidyut Sivaramakrishnan (UK...</td>\n",
       "      <td>Shaun Marsh (BT),James Hopes (AR),Kumar Sangak...</td>\n",
       "      <td>Ramesh Powar,Wilkin Mota</td>\n",
       "      <td>Irfan Pathan,Vikram Singh</td>\n",
       "      <td>31 May 2008 - night match (20-over match)</td>\n",
       "      <td>Asad Rauf</td>\n",
       "      <td>Daryl Harper</td>\n",
       "      <td>Krishna Hariharan</td>\n",
       "      <td>Srinivas Venkataraghavan</td>\n",
       "      <td>NaN</td>\n",
       "    </tr>\n",
       "    <tr>\n",
       "      <th>1031</th>\n",
       "      <td>2008.0</td>\n",
       "      <td>336040</td>\n",
       "      <td>Chennai Super Kings v Rajasthan Royals</td>\n",
       "      <td>CSK v RR</td>\n",
       "      <td>Final (N), Indian Premier League at Mumbai, Ju...</td>\n",
       "      <td>CSK</td>\n",
       "      <td>RR</td>\n",
       "      <td>RR</td>\n",
       "      <td>BOWL FIRST</td>\n",
       "      <td>163/5</td>\n",
       "      <td>...</td>\n",
       "      <td>Parthiv Patel (WK),Vidyut Sivaramakrishnan (UK...</td>\n",
       "      <td>Niraj Patel (UKN),Swapnil Asnodkar (BT),Kamran...</td>\n",
       "      <td>Yusuf Pathan,Swapnil Asnodkar</td>\n",
       "      <td>Yusuf Pathan,Shane Watson</td>\n",
       "      <td>1 June 2008 - night match (20-over match)</td>\n",
       "      <td>Billy Bowden</td>\n",
       "      <td>Rudi Koertzen</td>\n",
       "      <td>Daryl Harper</td>\n",
       "      <td>Javagal Srinath</td>\n",
       "      <td>MR Singh</td>\n",
       "    </tr>\n",
       "  </tbody>\n",
       "</table>\n",
       "<p>1032 rows × 43 columns</p>\n",
       "</div>"
      ],
      "text/plain": [
       "      season       id                                          name  \\\n",
       "0        NaN  1370350          Chennai Super Kings v Gujarat Titans   \n",
       "1        NaN  1370351         Lucknow Super Giants v Mumbai Indians   \n",
       "2        NaN  1370352                                     TBC v TBC   \n",
       "3        NaN  1370353                                     TBC v TBC   \n",
       "4     2023.0  1359544  Royal Challengers Bangalore v Gujarat Titans   \n",
       "...      ...      ...                                           ...   \n",
       "1027  2008.0   336012  Royal Challengers Bangalore v Mumbai Indians   \n",
       "1028  2008.0   336019            Kings XI Punjab v Rajasthan Royals   \n",
       "1029  2008.0   336038           Delhi Daredevils v Rajasthan Royals   \n",
       "1030  2008.0   336039         Chennai Super Kings v Kings XI Punjab   \n",
       "1031  2008.0   336040        Chennai Super Kings v Rajasthan Royals   \n",
       "\n",
       "      short_name                                        description home_team  \\\n",
       "0       CSK v GT  Qualifier 1 (N), Indian Premier League at Chen...       CSK   \n",
       "1       LSG v MI  Eliminator (N), Indian Premier League at Chenn...       LSG   \n",
       "2      TBC v TBC  Qualifier 2 (N), Indian Premier League at Ahme...       TBA   \n",
       "3      TBC v TBC  Final (N), Indian Premier League at Ahmedabad,...       TBA   \n",
       "4       RCB v GT  70th Match (N), Indian Premier League at Benga...       RCB   \n",
       "...          ...                                                ...       ...   \n",
       "1027    RCB v MI  55th match (D/N), Indian Premier League at Ben...       RCB   \n",
       "1028   KXIP v RR  56th match (N), Indian Premier League at Mohal...      KXIP   \n",
       "1029     DC v RR  1st Semi-Final (N), Indian Premier League at M...        DC   \n",
       "1030  CSK v KXIP  2nd Semi-Final (N), Indian Premier League at M...       CSK   \n",
       "1031    CSK v RR  Final (N), Indian Premier League at Mumbai, Ju...       CSK   \n",
       "\n",
       "     away_team toss_won    decision 1st_inning_score  ...  \\\n",
       "0           GT      NaN         NaN              NaN  ...   \n",
       "1           MI      NaN         NaN              NaN  ...   \n",
       "2          TBA      NaN         NaN              NaN  ...   \n",
       "3          TBA      NaN         NaN              NaN  ...   \n",
       "4           GT       GT  BOWL FIRST            197/5  ...   \n",
       "...        ...      ...         ...              ...  ...   \n",
       "1027        MI       MI  BOWL FIRST            122/9  ...   \n",
       "1028        RR       RR  BOWL FIRST            221/3  ...   \n",
       "1029        RR       DC  BOWL FIRST            192/9  ...   \n",
       "1030      KXIP     KXIP   BAT FIRST            112/8  ...   \n",
       "1031        RR       RR  BOWL FIRST            163/5  ...   \n",
       "\n",
       "                                            home_playx1  \\\n",
       "0                                                   NaN   \n",
       "1                                                   NaN   \n",
       "2                                                   NaN   \n",
       "3                                                   NaN   \n",
       "4     Virat Kohli (UKN),Faf du Plessis (UKN),Glenn M...   \n",
       "...                                                 ...   \n",
       "1027  Mark Boucher (BT),Shreevats Goswami (WK),Misba...   \n",
       "1028  Shaun Marsh (BT),James Hopes (AR),Yuvraj Singh...   \n",
       "1029  Gautam Gambhir (BT),Virender Sehwag (BT),Shikh...   \n",
       "1030  Parthiv Patel (WK),Vidyut Sivaramakrishnan (UK...   \n",
       "1031  Parthiv Patel (WK),Vidyut Sivaramakrishnan (UK...   \n",
       "\n",
       "                                            away_playx1  \\\n",
       "0                                                   NaN   \n",
       "1                                                   NaN   \n",
       "2                                                   NaN   \n",
       "3                                                   NaN   \n",
       "4     Wriddhiman Saha (WK),Shubman Gill (UKN),Vijay ...   \n",
       "...                                                 ...   \n",
       "1027  Sanath Jayasuriya (AR),Sachin Tendulkar (BT),R...   \n",
       "1028  Mohammad Kaif (BT),Niraj Patel (UKN),Younis Kh...   \n",
       "1029  Graeme Smith (BT),Swapnil Asnodkar (BT),Sohail...   \n",
       "1030  Shaun Marsh (BT),James Hopes (AR),Kumar Sangak...   \n",
       "1031  Niraj Patel (UKN),Swapnil Asnodkar (BT),Kamran...   \n",
       "\n",
       "                        away_key_batsman                away_key_bowler  \\\n",
       "0                                    NaN                            NaN   \n",
       "1                                    NaN                            NaN   \n",
       "2                                    NaN                            NaN   \n",
       "3                                    NaN                            NaN   \n",
       "4             Shubman Gill,Vijay Shankar         Noor Ahmad,Rashid Khan   \n",
       "...                                  ...                            ...   \n",
       "1027  Sanath Jayasuriya,Sachin Tendulkar  Dilhara Fernando,Dwayne Smith   \n",
       "1028            Niraj Patel,Yusuf Pathan      Shane Watson,Yusuf Pathan   \n",
       "1029           Shane Watson,Yusuf Pathan       Shane Watson,Munaf Patel   \n",
       "1030            Ramesh Powar,Wilkin Mota      Irfan Pathan,Vikram Singh   \n",
       "1031       Yusuf Pathan,Swapnil Asnodkar      Yusuf Pathan,Shane Watson   \n",
       "\n",
       "                                         match_days            umpire1  \\\n",
       "0                                               NaN                NaN   \n",
       "1                                               NaN                NaN   \n",
       "2                                               NaN                NaN   \n",
       "3                                               NaN                NaN   \n",
       "4         21 May 2023 - night match (20-over match)        Nitin Menon   \n",
       "...                                             ...                ...   \n",
       "1027  28 May 2008 - day/night match (20-over match)       Billy Bowden   \n",
       "1028      28 May 2008 - night match (20-over match)  Krishna Hariharan   \n",
       "1029      30 May 2008 - night match (20-over match)       Billy Bowden   \n",
       "1030      31 May 2008 - night match (20-over match)          Asad Rauf   \n",
       "1031      1 June 2008 - night match (20-over match)       Billy Bowden   \n",
       "\n",
       "                umpire2          tv_umpire                   referee  \\\n",
       "0                   NaN                NaN                       NaN   \n",
       "1                   NaN                NaN                       NaN   \n",
       "2                   NaN                NaN                       NaN   \n",
       "3                   NaN                NaN                       NaN   \n",
       "4       Virender Sharma       Tapan Sharma           Javagal Srinath   \n",
       "...                 ...                ...                       ...   \n",
       "1027  Arani Jayaprakash     Billy Doctrove           Sir Clive Lloyd   \n",
       "1028        Steve Davis       Daryl Harper  Srinivas Venkataraghavan   \n",
       "1029      Rudi Koertzen     Billy Doctrove           Javagal Srinath   \n",
       "1030       Daryl Harper  Krishna Hariharan  Srinivas Venkataraghavan   \n",
       "1031      Rudi Koertzen       Daryl Harper           Javagal Srinath   \n",
       "\n",
       "     reserve_umpire  \n",
       "0               NaN  \n",
       "1               NaN  \n",
       "2               NaN  \n",
       "3               NaN  \n",
       "4        VM  Dhokre  \n",
       "...             ...  \n",
       "1027            NaN  \n",
       "1028       MS Mahal  \n",
       "1029            NaN  \n",
       "1030            NaN  \n",
       "1031       MR Singh  \n",
       "\n",
       "[1032 rows x 43 columns]"
      ]
     },
     "execution_count": 2,
     "metadata": {},
     "output_type": "execute_result"
    }
   ],
   "source": [
    "data = pd.read_csv('/kaggle/input/ipl-match-dataset-2008-2023/Cricket_data.csv')\n",
    "data"
   ]
  },
  {
   "cell_type": "markdown",
   "id": "3efbb181",
   "metadata": {
    "papermill": {
     "duration": 0.021834,
     "end_time": "2023-06-16T16:42:52.695979",
     "exception": false,
     "start_time": "2023-06-16T16:42:52.674145",
     "status": "completed"
    },
    "tags": []
   },
   "source": [
    "### Basic Information about Dataset"
   ]
  },
  {
   "cell_type": "markdown",
   "id": "630ffa04",
   "metadata": {
    "papermill": {
     "duration": 0.022211,
     "end_time": "2023-06-16T16:42:52.740942",
     "exception": false,
     "start_time": "2023-06-16T16:42:52.718731",
     "status": "completed"
    },
    "tags": []
   },
   "source": [
    "#### Shape of the data"
   ]
  },
  {
   "cell_type": "code",
   "execution_count": 3,
   "id": "afd267ac",
   "metadata": {
    "execution": {
     "iopub.execute_input": "2023-06-16T16:42:52.789022Z",
     "iopub.status.busy": "2023-06-16T16:42:52.787579Z",
     "iopub.status.idle": "2023-06-16T16:42:52.794657Z",
     "shell.execute_reply": "2023-06-16T16:42:52.793881Z"
    },
    "papermill": {
     "duration": 0.033766,
     "end_time": "2023-06-16T16:42:52.796949",
     "exception": false,
     "start_time": "2023-06-16T16:42:52.763183",
     "status": "completed"
    },
    "tags": []
   },
   "outputs": [
    {
     "data": {
      "text/plain": [
       "(1032, 43)"
      ]
     },
     "execution_count": 3,
     "metadata": {},
     "output_type": "execute_result"
    }
   ],
   "source": [
    "data.shape"
   ]
  },
  {
   "cell_type": "markdown",
   "id": "4dec0143",
   "metadata": {
    "papermill": {
     "duration": 0.022735,
     "end_time": "2023-06-16T16:42:52.842967",
     "exception": false,
     "start_time": "2023-06-16T16:42:52.820232",
     "status": "completed"
    },
    "tags": []
   },
   "source": [
    "#### Info of the data"
   ]
  },
  {
   "cell_type": "code",
   "execution_count": 4,
   "id": "08582b1e",
   "metadata": {
    "execution": {
     "iopub.execute_input": "2023-06-16T16:42:52.891563Z",
     "iopub.status.busy": "2023-06-16T16:42:52.890865Z",
     "iopub.status.idle": "2023-06-16T16:42:52.930233Z",
     "shell.execute_reply": "2023-06-16T16:42:52.929076Z"
    },
    "papermill": {
     "duration": 0.067213,
     "end_time": "2023-06-16T16:42:52.933200",
     "exception": false,
     "start_time": "2023-06-16T16:42:52.865987",
     "status": "completed"
    },
    "tags": []
   },
   "outputs": [
    {
     "name": "stdout",
     "output_type": "stream",
     "text": [
      "<class 'pandas.core.frame.DataFrame'>\n",
      "RangeIndex: 1032 entries, 0 to 1031\n",
      "Data columns (total 43 columns):\n",
      " #   Column            Non-Null Count  Dtype  \n",
      "---  ------            --------------  -----  \n",
      " 0   season            1027 non-null   float64\n",
      " 1   id                1032 non-null   int64  \n",
      " 2   name              1032 non-null   object \n",
      " 3   short_name        1032 non-null   object \n",
      " 4   description       1032 non-null   object \n",
      " 5   home_team         1032 non-null   object \n",
      " 6   away_team         1032 non-null   object \n",
      " 7   toss_won          1027 non-null   object \n",
      " 8   decision          1027 non-null   object \n",
      " 9   1st_inning_score  1019 non-null   object \n",
      " 10  2nd_inning_score  1017 non-null   object \n",
      " 11  winner            1031 non-null   object \n",
      " 12  result            1032 non-null   object \n",
      " 13  start_date        1032 non-null   object \n",
      " 14  end_date          1032 non-null   object \n",
      " 15  venue_id          1032 non-null   int64  \n",
      " 16  venue_name        1032 non-null   object \n",
      " 17  home_captain      1027 non-null   object \n",
      " 18  away_captain      1027 non-null   object \n",
      " 19  pom               1015 non-null   object \n",
      " 20  points            967 non-null    object \n",
      " 21  super_over        1027 non-null   object \n",
      " 22  home_overs        1019 non-null   float64\n",
      " 23  home_runs         1019 non-null   float64\n",
      " 24  home_wickets      1019 non-null   float64\n",
      " 25  home_boundaries   1019 non-null   float64\n",
      " 26  away_overs        1017 non-null   float64\n",
      " 27  away_runs         1017 non-null   float64\n",
      " 28  away_wickets      1017 non-null   float64\n",
      " 29  away_boundaries   1017 non-null   float64\n",
      " 30  highlights        1005 non-null   object \n",
      " 31  home_key_batsman  1019 non-null   object \n",
      " 32  home_key_bowler   1006 non-null   object \n",
      " 33  home_playx1       1027 non-null   object \n",
      " 34  away_playx1       1027 non-null   object \n",
      " 35  away_key_batsman  1017 non-null   object \n",
      " 36  away_key_bowler   1008 non-null   object \n",
      " 37  match_days        1027 non-null   object \n",
      " 38  umpire1           1027 non-null   object \n",
      " 39  umpire2           1027 non-null   object \n",
      " 40  tv_umpire         1025 non-null   object \n",
      " 41  referee           1027 non-null   object \n",
      " 42  reserve_umpire    1001 non-null   object \n",
      "dtypes: float64(9), int64(2), object(32)\n",
      "memory usage: 346.8+ KB\n"
     ]
    }
   ],
   "source": [
    "data.info()"
   ]
  },
  {
   "cell_type": "markdown",
   "id": "8e8b7ae6",
   "metadata": {
    "papermill": {
     "duration": 0.021551,
     "end_time": "2023-06-16T16:42:52.976854",
     "exception": false,
     "start_time": "2023-06-16T16:42:52.955303",
     "status": "completed"
    },
    "tags": []
   },
   "source": [
    "#### Description of the data"
   ]
  },
  {
   "cell_type": "code",
   "execution_count": 5,
   "id": "326d6f91",
   "metadata": {
    "execution": {
     "iopub.execute_input": "2023-06-16T16:42:53.025075Z",
     "iopub.status.busy": "2023-06-16T16:42:53.024642Z",
     "iopub.status.idle": "2023-06-16T16:42:53.079459Z",
     "shell.execute_reply": "2023-06-16T16:42:53.078503Z"
    },
    "papermill": {
     "duration": 0.082403,
     "end_time": "2023-06-16T16:42:53.081862",
     "exception": false,
     "start_time": "2023-06-16T16:42:52.999459",
     "status": "completed"
    },
    "tags": []
   },
   "outputs": [
    {
     "data": {
      "text/html": [
       "<div>\n",
       "<style scoped>\n",
       "    .dataframe tbody tr th:only-of-type {\n",
       "        vertical-align: middle;\n",
       "    }\n",
       "\n",
       "    .dataframe tbody tr th {\n",
       "        vertical-align: top;\n",
       "    }\n",
       "\n",
       "    .dataframe thead th {\n",
       "        text-align: right;\n",
       "    }\n",
       "</style>\n",
       "<table border=\"1\" class=\"dataframe\">\n",
       "  <thead>\n",
       "    <tr style=\"text-align: right;\">\n",
       "      <th></th>\n",
       "      <th>season</th>\n",
       "      <th>id</th>\n",
       "      <th>venue_id</th>\n",
       "      <th>home_overs</th>\n",
       "      <th>home_runs</th>\n",
       "      <th>home_wickets</th>\n",
       "      <th>home_boundaries</th>\n",
       "      <th>away_overs</th>\n",
       "      <th>away_runs</th>\n",
       "      <th>away_wickets</th>\n",
       "      <th>away_boundaries</th>\n",
       "    </tr>\n",
       "  </thead>\n",
       "  <tbody>\n",
       "    <tr>\n",
       "      <th>count</th>\n",
       "      <td>1027.000000</td>\n",
       "      <td>1.032000e+03</td>\n",
       "      <td>1.032000e+03</td>\n",
       "      <td>1019.000000</td>\n",
       "      <td>1019.000000</td>\n",
       "      <td>1019.000000</td>\n",
       "      <td>1019.000000</td>\n",
       "      <td>1017.000000</td>\n",
       "      <td>1017.000000</td>\n",
       "      <td>1017.000000</td>\n",
       "      <td>1017.000000</td>\n",
       "    </tr>\n",
       "    <tr>\n",
       "      <th>mean</th>\n",
       "      <td>2015.513145</td>\n",
       "      <td>8.665104e+05</td>\n",
       "      <td>1.255838e+05</td>\n",
       "      <td>19.089892</td>\n",
       "      <td>158.309127</td>\n",
       "      <td>5.791953</td>\n",
       "      <td>19.412169</td>\n",
       "      <td>19.082104</td>\n",
       "      <td>155.962635</td>\n",
       "      <td>5.950836</td>\n",
       "      <td>19.108161</td>\n",
       "    </tr>\n",
       "    <tr>\n",
       "      <th>std</th>\n",
       "      <td>4.628349</td>\n",
       "      <td>3.530627e+05</td>\n",
       "      <td>1.644463e+05</td>\n",
       "      <td>2.095061</td>\n",
       "      <td>31.816295</td>\n",
       "      <td>2.404542</td>\n",
       "      <td>5.850536</td>\n",
       "      <td>2.114934</td>\n",
       "      <td>31.334376</td>\n",
       "      <td>2.508164</td>\n",
       "      <td>5.683248</td>\n",
       "    </tr>\n",
       "    <tr>\n",
       "      <th>min</th>\n",
       "      <td>2008.000000</td>\n",
       "      <td>3.359820e+05</td>\n",
       "      <td>5.785100e+04</td>\n",
       "      <td>1.100000</td>\n",
       "      <td>2.000000</td>\n",
       "      <td>0.000000</td>\n",
       "      <td>0.000000</td>\n",
       "      <td>3.200000</td>\n",
       "      <td>41.000000</td>\n",
       "      <td>0.000000</td>\n",
       "      <td>3.000000</td>\n",
       "    </tr>\n",
       "    <tr>\n",
       "      <th>25%</th>\n",
       "      <td>2012.000000</td>\n",
       "      <td>5.483118e+05</td>\n",
       "      <td>5.799100e+04</td>\n",
       "      <td>19.200000</td>\n",
       "      <td>138.000000</td>\n",
       "      <td>4.000000</td>\n",
       "      <td>15.000000</td>\n",
       "      <td>19.200000</td>\n",
       "      <td>137.000000</td>\n",
       "      <td>4.000000</td>\n",
       "      <td>15.000000</td>\n",
       "    </tr>\n",
       "    <tr>\n",
       "      <th>50%</th>\n",
       "      <td>2015.000000</td>\n",
       "      <td>8.298080e+05</td>\n",
       "      <td>5.814200e+04</td>\n",
       "      <td>20.000000</td>\n",
       "      <td>160.000000</td>\n",
       "      <td>6.000000</td>\n",
       "      <td>19.000000</td>\n",
       "      <td>20.000000</td>\n",
       "      <td>158.000000</td>\n",
       "      <td>6.000000</td>\n",
       "      <td>19.000000</td>\n",
       "    </tr>\n",
       "    <tr>\n",
       "      <th>75%</th>\n",
       "      <td>2020.000000</td>\n",
       "      <td>1.216501e+06</td>\n",
       "      <td>5.908900e+04</td>\n",
       "      <td>20.000000</td>\n",
       "      <td>180.000000</td>\n",
       "      <td>8.000000</td>\n",
       "      <td>23.000000</td>\n",
       "      <td>20.000000</td>\n",
       "      <td>176.000000</td>\n",
       "      <td>8.000000</td>\n",
       "      <td>23.000000</td>\n",
       "    </tr>\n",
       "    <tr>\n",
       "      <th>max</th>\n",
       "      <td>2023.000000</td>\n",
       "      <td>1.370353e+06</td>\n",
       "      <td>1.070094e+06</td>\n",
       "      <td>20.000000</td>\n",
       "      <td>263.000000</td>\n",
       "      <td>10.000000</td>\n",
       "      <td>42.000000</td>\n",
       "      <td>20.000000</td>\n",
       "      <td>257.000000</td>\n",
       "      <td>10.000000</td>\n",
       "      <td>41.000000</td>\n",
       "    </tr>\n",
       "  </tbody>\n",
       "</table>\n",
       "</div>"
      ],
      "text/plain": [
       "            season            id      venue_id   home_overs    home_runs  \\\n",
       "count  1027.000000  1.032000e+03  1.032000e+03  1019.000000  1019.000000   \n",
       "mean   2015.513145  8.665104e+05  1.255838e+05    19.089892   158.309127   \n",
       "std       4.628349  3.530627e+05  1.644463e+05     2.095061    31.816295   \n",
       "min    2008.000000  3.359820e+05  5.785100e+04     1.100000     2.000000   \n",
       "25%    2012.000000  5.483118e+05  5.799100e+04    19.200000   138.000000   \n",
       "50%    2015.000000  8.298080e+05  5.814200e+04    20.000000   160.000000   \n",
       "75%    2020.000000  1.216501e+06  5.908900e+04    20.000000   180.000000   \n",
       "max    2023.000000  1.370353e+06  1.070094e+06    20.000000   263.000000   \n",
       "\n",
       "       home_wickets  home_boundaries   away_overs    away_runs  away_wickets  \\\n",
       "count   1019.000000      1019.000000  1017.000000  1017.000000   1017.000000   \n",
       "mean       5.791953        19.412169    19.082104   155.962635      5.950836   \n",
       "std        2.404542         5.850536     2.114934    31.334376      2.508164   \n",
       "min        0.000000         0.000000     3.200000    41.000000      0.000000   \n",
       "25%        4.000000        15.000000    19.200000   137.000000      4.000000   \n",
       "50%        6.000000        19.000000    20.000000   158.000000      6.000000   \n",
       "75%        8.000000        23.000000    20.000000   176.000000      8.000000   \n",
       "max       10.000000        42.000000    20.000000   257.000000     10.000000   \n",
       "\n",
       "       away_boundaries  \n",
       "count      1017.000000  \n",
       "mean         19.108161  \n",
       "std           5.683248  \n",
       "min           3.000000  \n",
       "25%          15.000000  \n",
       "50%          19.000000  \n",
       "75%          23.000000  \n",
       "max          41.000000  "
      ]
     },
     "execution_count": 5,
     "metadata": {},
     "output_type": "execute_result"
    }
   ],
   "source": [
    "data.describe()"
   ]
  },
  {
   "cell_type": "markdown",
   "id": "a23089ee",
   "metadata": {
    "papermill": {
     "duration": 0.022712,
     "end_time": "2023-06-16T16:42:53.128342",
     "exception": false,
     "start_time": "2023-06-16T16:42:53.105630",
     "status": "completed"
    },
    "tags": []
   },
   "source": [
    "#### Columns"
   ]
  },
  {
   "cell_type": "code",
   "execution_count": 6,
   "id": "078d56db",
   "metadata": {
    "execution": {
     "iopub.execute_input": "2023-06-16T16:42:53.177120Z",
     "iopub.status.busy": "2023-06-16T16:42:53.176503Z",
     "iopub.status.idle": "2023-06-16T16:42:53.185965Z",
     "shell.execute_reply": "2023-06-16T16:42:53.184651Z"
    },
    "papermill": {
     "duration": 0.037034,
     "end_time": "2023-06-16T16:42:53.188469",
     "exception": false,
     "start_time": "2023-06-16T16:42:53.151435",
     "status": "completed"
    },
    "tags": []
   },
   "outputs": [
    {
     "data": {
      "text/plain": [
       "Index(['season', 'id', 'name', 'short_name', 'description', 'home_team',\n",
       "       'away_team', 'toss_won', 'decision', '1st_inning_score',\n",
       "       '2nd_inning_score', 'winner', 'result', 'start_date', 'end_date',\n",
       "       'venue_id', 'venue_name', 'home_captain', 'away_captain', 'pom',\n",
       "       'points', 'super_over', 'home_overs', 'home_runs', 'home_wickets',\n",
       "       'home_boundaries', 'away_overs', 'away_runs', 'away_wickets',\n",
       "       'away_boundaries', 'highlights', 'home_key_batsman', 'home_key_bowler',\n",
       "       'home_playx1', 'away_playx1', 'away_key_batsman', 'away_key_bowler',\n",
       "       'match_days', 'umpire1', 'umpire2', 'tv_umpire', 'referee',\n",
       "       'reserve_umpire'],\n",
       "      dtype='object')"
      ]
     },
     "execution_count": 6,
     "metadata": {},
     "output_type": "execute_result"
    }
   ],
   "source": [
    "data.columns"
   ]
  },
  {
   "cell_type": "markdown",
   "id": "92faeff7",
   "metadata": {
    "papermill": {
     "duration": 0.023754,
     "end_time": "2023-06-16T16:42:53.235378",
     "exception": false,
     "start_time": "2023-06-16T16:42:53.211624",
     "status": "completed"
    },
    "tags": []
   },
   "source": [
    "### Removing unwanter columns"
   ]
  },
  {
   "cell_type": "code",
   "execution_count": 7,
   "id": "1c14700c",
   "metadata": {
    "execution": {
     "iopub.execute_input": "2023-06-16T16:42:53.284466Z",
     "iopub.status.busy": "2023-06-16T16:42:53.283775Z",
     "iopub.status.idle": "2023-06-16T16:42:53.291907Z",
     "shell.execute_reply": "2023-06-16T16:42:53.290934Z"
    },
    "papermill": {
     "duration": 0.035948,
     "end_time": "2023-06-16T16:42:53.294780",
     "exception": false,
     "start_time": "2023-06-16T16:42:53.258832",
     "status": "completed"
    },
    "tags": []
   },
   "outputs": [],
   "source": [
    "data.drop(columns=['description','1st_inning_score','2nd_inning_score','result','end_date','points','highlights','home_key_batsman', 'home_key_bowler',\n",
    "       'home_playx1', 'away_playx1', 'away_key_batsman', 'away_key_bowler','umpire1', 'umpire2', 'tv_umpire', 'referee',\n",
    "       'reserve_umpire','match_days'],inplace=True)"
   ]
  },
  {
   "cell_type": "code",
   "execution_count": 8,
   "id": "25d81e67",
   "metadata": {
    "execution": {
     "iopub.execute_input": "2023-06-16T16:42:53.343583Z",
     "iopub.status.busy": "2023-06-16T16:42:53.343185Z",
     "iopub.status.idle": "2023-06-16T16:42:53.349763Z",
     "shell.execute_reply": "2023-06-16T16:42:53.349007Z"
    },
    "papermill": {
     "duration": 0.033574,
     "end_time": "2023-06-16T16:42:53.352041",
     "exception": false,
     "start_time": "2023-06-16T16:42:53.318467",
     "status": "completed"
    },
    "tags": []
   },
   "outputs": [
    {
     "data": {
      "text/plain": [
       "Index(['season', 'id', 'name', 'short_name', 'home_team', 'away_team',\n",
       "       'toss_won', 'decision', 'winner', 'start_date', 'venue_id',\n",
       "       'venue_name', 'home_captain', 'away_captain', 'pom', 'super_over',\n",
       "       'home_overs', 'home_runs', 'home_wickets', 'home_boundaries',\n",
       "       'away_overs', 'away_runs', 'away_wickets', 'away_boundaries'],\n",
       "      dtype='object')"
      ]
     },
     "execution_count": 8,
     "metadata": {},
     "output_type": "execute_result"
    }
   ],
   "source": [
    "data.columns"
   ]
  },
  {
   "cell_type": "markdown",
   "id": "00cf23d4",
   "metadata": {
    "papermill": {
     "duration": 0.023117,
     "end_time": "2023-06-16T16:42:53.398698",
     "exception": false,
     "start_time": "2023-06-16T16:42:53.375581",
     "status": "completed"
    },
    "tags": []
   },
   "source": [
    "### Checking Missing Values"
   ]
  },
  {
   "cell_type": "code",
   "execution_count": 9,
   "id": "70fde97c",
   "metadata": {
    "execution": {
     "iopub.execute_input": "2023-06-16T16:42:53.447401Z",
     "iopub.status.busy": "2023-06-16T16:42:53.446986Z",
     "iopub.status.idle": "2023-06-16T16:42:53.466894Z",
     "shell.execute_reply": "2023-06-16T16:42:53.465635Z"
    },
    "papermill": {
     "duration": 0.046946,
     "end_time": "2023-06-16T16:42:53.469316",
     "exception": false,
     "start_time": "2023-06-16T16:42:53.422370",
     "status": "completed"
    },
    "tags": []
   },
   "outputs": [
    {
     "data": {
      "text/html": [
       "<div>\n",
       "<style scoped>\n",
       "    .dataframe tbody tr th:only-of-type {\n",
       "        vertical-align: middle;\n",
       "    }\n",
       "\n",
       "    .dataframe tbody tr th {\n",
       "        vertical-align: top;\n",
       "    }\n",
       "\n",
       "    .dataframe thead th {\n",
       "        text-align: right;\n",
       "    }\n",
       "</style>\n",
       "<table border=\"1\" class=\"dataframe\">\n",
       "  <thead>\n",
       "    <tr style=\"text-align: right;\">\n",
       "      <th></th>\n",
       "      <th>index</th>\n",
       "      <th>0</th>\n",
       "    </tr>\n",
       "  </thead>\n",
       "  <tbody>\n",
       "    <tr>\n",
       "      <th>0</th>\n",
       "      <td>season</td>\n",
       "      <td>5</td>\n",
       "    </tr>\n",
       "    <tr>\n",
       "      <th>1</th>\n",
       "      <td>id</td>\n",
       "      <td>0</td>\n",
       "    </tr>\n",
       "    <tr>\n",
       "      <th>2</th>\n",
       "      <td>name</td>\n",
       "      <td>0</td>\n",
       "    </tr>\n",
       "    <tr>\n",
       "      <th>3</th>\n",
       "      <td>short_name</td>\n",
       "      <td>0</td>\n",
       "    </tr>\n",
       "    <tr>\n",
       "      <th>4</th>\n",
       "      <td>home_team</td>\n",
       "      <td>0</td>\n",
       "    </tr>\n",
       "    <tr>\n",
       "      <th>5</th>\n",
       "      <td>away_team</td>\n",
       "      <td>0</td>\n",
       "    </tr>\n",
       "    <tr>\n",
       "      <th>6</th>\n",
       "      <td>toss_won</td>\n",
       "      <td>5</td>\n",
       "    </tr>\n",
       "    <tr>\n",
       "      <th>7</th>\n",
       "      <td>decision</td>\n",
       "      <td>5</td>\n",
       "    </tr>\n",
       "    <tr>\n",
       "      <th>8</th>\n",
       "      <td>winner</td>\n",
       "      <td>1</td>\n",
       "    </tr>\n",
       "    <tr>\n",
       "      <th>9</th>\n",
       "      <td>start_date</td>\n",
       "      <td>0</td>\n",
       "    </tr>\n",
       "    <tr>\n",
       "      <th>10</th>\n",
       "      <td>venue_id</td>\n",
       "      <td>0</td>\n",
       "    </tr>\n",
       "    <tr>\n",
       "      <th>11</th>\n",
       "      <td>venue_name</td>\n",
       "      <td>0</td>\n",
       "    </tr>\n",
       "    <tr>\n",
       "      <th>12</th>\n",
       "      <td>home_captain</td>\n",
       "      <td>5</td>\n",
       "    </tr>\n",
       "    <tr>\n",
       "      <th>13</th>\n",
       "      <td>away_captain</td>\n",
       "      <td>5</td>\n",
       "    </tr>\n",
       "    <tr>\n",
       "      <th>14</th>\n",
       "      <td>pom</td>\n",
       "      <td>17</td>\n",
       "    </tr>\n",
       "    <tr>\n",
       "      <th>15</th>\n",
       "      <td>super_over</td>\n",
       "      <td>5</td>\n",
       "    </tr>\n",
       "    <tr>\n",
       "      <th>16</th>\n",
       "      <td>home_overs</td>\n",
       "      <td>13</td>\n",
       "    </tr>\n",
       "    <tr>\n",
       "      <th>17</th>\n",
       "      <td>home_runs</td>\n",
       "      <td>13</td>\n",
       "    </tr>\n",
       "    <tr>\n",
       "      <th>18</th>\n",
       "      <td>home_wickets</td>\n",
       "      <td>13</td>\n",
       "    </tr>\n",
       "    <tr>\n",
       "      <th>19</th>\n",
       "      <td>home_boundaries</td>\n",
       "      <td>13</td>\n",
       "    </tr>\n",
       "    <tr>\n",
       "      <th>20</th>\n",
       "      <td>away_overs</td>\n",
       "      <td>15</td>\n",
       "    </tr>\n",
       "    <tr>\n",
       "      <th>21</th>\n",
       "      <td>away_runs</td>\n",
       "      <td>15</td>\n",
       "    </tr>\n",
       "    <tr>\n",
       "      <th>22</th>\n",
       "      <td>away_wickets</td>\n",
       "      <td>15</td>\n",
       "    </tr>\n",
       "    <tr>\n",
       "      <th>23</th>\n",
       "      <td>away_boundaries</td>\n",
       "      <td>15</td>\n",
       "    </tr>\n",
       "  </tbody>\n",
       "</table>\n",
       "</div>"
      ],
      "text/plain": [
       "              index   0\n",
       "0            season   5\n",
       "1                id   0\n",
       "2              name   0\n",
       "3        short_name   0\n",
       "4         home_team   0\n",
       "5         away_team   0\n",
       "6          toss_won   5\n",
       "7          decision   5\n",
       "8            winner   1\n",
       "9        start_date   0\n",
       "10         venue_id   0\n",
       "11       venue_name   0\n",
       "12     home_captain   5\n",
       "13     away_captain   5\n",
       "14              pom  17\n",
       "15       super_over   5\n",
       "16       home_overs  13\n",
       "17        home_runs  13\n",
       "18     home_wickets  13\n",
       "19  home_boundaries  13\n",
       "20       away_overs  15\n",
       "21        away_runs  15\n",
       "22     away_wickets  15\n",
       "23  away_boundaries  15"
      ]
     },
     "execution_count": 9,
     "metadata": {},
     "output_type": "execute_result"
    }
   ],
   "source": [
    "data.isna().sum().reset_index()"
   ]
  },
  {
   "cell_type": "markdown",
   "id": "27365cc5",
   "metadata": {
    "papermill": {
     "duration": 0.02323,
     "end_time": "2023-06-16T16:42:53.516725",
     "exception": false,
     "start_time": "2023-06-16T16:42:53.493495",
     "status": "completed"
    },
    "tags": []
   },
   "source": [
    "We have missing values in below columns\n",
    "- `season` - 5\n",
    "- `decision` - 5\n",
    "- `winner` - 1\n",
    "- `home_captain` - 5\n",
    "- `away_captain` - 5\n",
    "- `pom` - 17\n",
    "- `super_over` - 5\n",
    "- `home_overs` - 13\n",
    "- `home_runs` - 13\n",
    "- `home_wickets` - 13\n",
    "- `home_boundaries` - 13\n",
    "- `away_overs` - 15\n",
    "- `away_runs` - 15\n",
    "- `away_wickets` - 15\n",
    "- `away_boundaries` - 15\n",
    "- `match_days` - 5"
   ]
  },
  {
   "cell_type": "markdown",
   "id": "52f17dfb",
   "metadata": {
    "papermill": {
     "duration": 0.023137,
     "end_time": "2023-06-16T16:42:53.563630",
     "exception": false,
     "start_time": "2023-06-16T16:42:53.540493",
     "status": "completed"
    },
    "tags": []
   },
   "source": [
    "Most of these columns have same number of missing values, this might be because these missing values are in same row, but we are not sure about this.\n",
    "\n",
    "Let's fix them one by one starting from `season` column"
   ]
  },
  {
   "cell_type": "markdown",
   "id": "966d54a0",
   "metadata": {
    "papermill": {
     "duration": 0.023417,
     "end_time": "2023-06-16T16:42:53.610749",
     "exception": false,
     "start_time": "2023-06-16T16:42:53.587332",
     "status": "completed"
    },
    "tags": []
   },
   "source": [
    "### Fixing `season` column missing values\n",
    "\n",
    "Since season is a categorical column so for this we are just droping missing values"
   ]
  },
  {
   "cell_type": "code",
   "execution_count": 10,
   "id": "01319286",
   "metadata": {
    "execution": {
     "iopub.execute_input": "2023-06-16T16:42:53.660149Z",
     "iopub.status.busy": "2023-06-16T16:42:53.659730Z",
     "iopub.status.idle": "2023-06-16T16:42:53.669418Z",
     "shell.execute_reply": "2023-06-16T16:42:53.668045Z"
    },
    "papermill": {
     "duration": 0.03781,
     "end_time": "2023-06-16T16:42:53.672222",
     "exception": false,
     "start_time": "2023-06-16T16:42:53.634412",
     "status": "completed"
    },
    "tags": []
   },
   "outputs": [],
   "source": [
    "data = data.dropna(subset=['season']).reset_index(drop=True)"
   ]
  },
  {
   "cell_type": "markdown",
   "id": "8d283585",
   "metadata": {
    "papermill": {
     "duration": 0.023634,
     "end_time": "2023-06-16T16:42:53.720015",
     "exception": false,
     "start_time": "2023-06-16T16:42:53.696381",
     "status": "completed"
    },
    "tags": []
   },
   "source": [
    "#### Now let's check if our assumption was correct for missing values or not"
   ]
  },
  {
   "cell_type": "code",
   "execution_count": 11,
   "id": "e6b6e1ce",
   "metadata": {
    "execution": {
     "iopub.execute_input": "2023-06-16T16:42:53.769923Z",
     "iopub.status.busy": "2023-06-16T16:42:53.769511Z",
     "iopub.status.idle": "2023-06-16T16:42:53.784363Z",
     "shell.execute_reply": "2023-06-16T16:42:53.783075Z"
    },
    "papermill": {
     "duration": 0.042912,
     "end_time": "2023-06-16T16:42:53.786946",
     "exception": false,
     "start_time": "2023-06-16T16:42:53.744034",
     "status": "completed"
    },
    "tags": []
   },
   "outputs": [
    {
     "data": {
      "text/plain": [
       "season              0\n",
       "id                  0\n",
       "name                0\n",
       "short_name          0\n",
       "home_team           0\n",
       "away_team           0\n",
       "toss_won            0\n",
       "decision            0\n",
       "winner              1\n",
       "start_date          0\n",
       "venue_id            0\n",
       "venue_name          0\n",
       "home_captain        0\n",
       "away_captain        0\n",
       "pom                12\n",
       "super_over          0\n",
       "home_overs          8\n",
       "home_runs           8\n",
       "home_wickets        8\n",
       "home_boundaries     8\n",
       "away_overs         10\n",
       "away_runs          10\n",
       "away_wickets       10\n",
       "away_boundaries    10\n",
       "dtype: int64"
      ]
     },
     "execution_count": 11,
     "metadata": {},
     "output_type": "execute_result"
    }
   ],
   "source": [
    "data.isna().sum()"
   ]
  },
  {
   "cell_type": "markdown",
   "id": "f3c81f93",
   "metadata": {
    "papermill": {
     "duration": 0.02489,
     "end_time": "2023-06-16T16:42:53.836496",
     "exception": false,
     "start_time": "2023-06-16T16:42:53.811606",
     "status": "completed"
    },
    "tags": []
   },
   "source": [
    "### Fixing `winner` column missing values\n",
    "\n",
    "Since winner column is a categorical column so for this we are just setting `No Player` for missing values"
   ]
  },
  {
   "cell_type": "code",
   "execution_count": 12,
   "id": "bb9bc699",
   "metadata": {
    "execution": {
     "iopub.execute_input": "2023-06-16T16:42:53.886665Z",
     "iopub.status.busy": "2023-06-16T16:42:53.886206Z",
     "iopub.status.idle": "2023-06-16T16:42:53.893080Z",
     "shell.execute_reply": "2023-06-16T16:42:53.892151Z"
    },
    "papermill": {
     "duration": 0.034652,
     "end_time": "2023-06-16T16:42:53.895276",
     "exception": false,
     "start_time": "2023-06-16T16:42:53.860624",
     "status": "completed"
    },
    "tags": []
   },
   "outputs": [],
   "source": [
    "data['winner'].fillna('No Player',inplace=True)"
   ]
  },
  {
   "cell_type": "markdown",
   "id": "005c2120",
   "metadata": {
    "papermill": {
     "duration": 0.023534,
     "end_time": "2023-06-16T16:42:53.942645",
     "exception": false,
     "start_time": "2023-06-16T16:42:53.919111",
     "status": "completed"
    },
    "tags": []
   },
   "source": [
    "### Fixing `pom` column missing values\n",
    "\n",
    "Since pom column is a categorical column so for this we are just setting `No Player` for missing values"
   ]
  },
  {
   "cell_type": "code",
   "execution_count": 13,
   "id": "1be0ea71",
   "metadata": {
    "execution": {
     "iopub.execute_input": "2023-06-16T16:42:53.992213Z",
     "iopub.status.busy": "2023-06-16T16:42:53.991781Z",
     "iopub.status.idle": "2023-06-16T16:42:53.998359Z",
     "shell.execute_reply": "2023-06-16T16:42:53.997231Z"
    },
    "papermill": {
     "duration": 0.033887,
     "end_time": "2023-06-16T16:42:54.000483",
     "exception": false,
     "start_time": "2023-06-16T16:42:53.966596",
     "status": "completed"
    },
    "tags": []
   },
   "outputs": [],
   "source": [
    "data['pom'].fillna('No Player',inplace=True)"
   ]
  },
  {
   "cell_type": "markdown",
   "id": "95baa87e",
   "metadata": {
    "papermill": {
     "duration": 0.024349,
     "end_time": "2023-06-16T16:42:54.053041",
     "exception": false,
     "start_time": "2023-06-16T16:42:54.028692",
     "status": "completed"
    },
    "tags": []
   },
   "source": [
    "### Fixing `home_overs`, `home_runs`, `home_wickets`, `home_boundaries` column missing values\n",
    "\n",
    "Since these emply cells are in same row because to no match conducted so for this we are just setting missing values to `0`"
   ]
  },
  {
   "cell_type": "code",
   "execution_count": 14,
   "id": "9bb45e71",
   "metadata": {
    "execution": {
     "iopub.execute_input": "2023-06-16T16:42:54.103021Z",
     "iopub.status.busy": "2023-06-16T16:42:54.102589Z",
     "iopub.status.idle": "2023-06-16T16:42:54.110759Z",
     "shell.execute_reply": "2023-06-16T16:42:54.109648Z"
    },
    "papermill": {
     "duration": 0.036053,
     "end_time": "2023-06-16T16:42:54.113173",
     "exception": false,
     "start_time": "2023-06-16T16:42:54.077120",
     "status": "completed"
    },
    "tags": []
   },
   "outputs": [],
   "source": [
    "data['home_overs'].fillna(0,inplace=True)\n",
    "data['home_runs'].fillna(0,inplace=True)\n",
    "data['home_wickets'].fillna(0,inplace=True)\n",
    "data['home_boundaries'].fillna(0,inplace=True)"
   ]
  },
  {
   "cell_type": "markdown",
   "id": "cb95316f",
   "metadata": {
    "papermill": {
     "duration": 0.024402,
     "end_time": "2023-06-16T16:42:54.162216",
     "exception": false,
     "start_time": "2023-06-16T16:42:54.137814",
     "status": "completed"
    },
    "tags": []
   },
   "source": [
    "### Fixing `away_overs`, `away_runs`, `away_wickets`, `away_boundaries` column missing values\n",
    "\n",
    "Since these emply cells are in same row because to no match conducted so for this we are just setting missing values to `0`"
   ]
  },
  {
   "cell_type": "code",
   "execution_count": 15,
   "id": "e4d22397",
   "metadata": {
    "execution": {
     "iopub.execute_input": "2023-06-16T16:42:54.212121Z",
     "iopub.status.busy": "2023-06-16T16:42:54.211700Z",
     "iopub.status.idle": "2023-06-16T16:42:54.220327Z",
     "shell.execute_reply": "2023-06-16T16:42:54.219282Z"
    },
    "papermill": {
     "duration": 0.036822,
     "end_time": "2023-06-16T16:42:54.223031",
     "exception": false,
     "start_time": "2023-06-16T16:42:54.186209",
     "status": "completed"
    },
    "tags": []
   },
   "outputs": [],
   "source": [
    "data['away_overs'].fillna(0,inplace=True)\n",
    "data['away_runs'].fillna(0,inplace=True)\n",
    "data['away_wickets'].fillna(0,inplace=True)\n",
    "data['away_boundaries'].fillna(0,inplace=True)"
   ]
  },
  {
   "cell_type": "markdown",
   "id": "8de320a2",
   "metadata": {
    "papermill": {
     "duration": 0.023701,
     "end_time": "2023-06-16T16:42:54.271818",
     "exception": false,
     "start_time": "2023-06-16T16:42:54.248117",
     "status": "completed"
    },
    "tags": []
   },
   "source": [
    "### Verifying mising values"
   ]
  },
  {
   "cell_type": "code",
   "execution_count": 16,
   "id": "092eca6a",
   "metadata": {
    "execution": {
     "iopub.execute_input": "2023-06-16T16:42:54.321422Z",
     "iopub.status.busy": "2023-06-16T16:42:54.321002Z",
     "iopub.status.idle": "2023-06-16T16:42:54.335601Z",
     "shell.execute_reply": "2023-06-16T16:42:54.334562Z"
    },
    "papermill": {
     "duration": 0.042258,
     "end_time": "2023-06-16T16:42:54.338015",
     "exception": false,
     "start_time": "2023-06-16T16:42:54.295757",
     "status": "completed"
    },
    "tags": []
   },
   "outputs": [
    {
     "data": {
      "text/plain": [
       "season             0\n",
       "id                 0\n",
       "name               0\n",
       "short_name         0\n",
       "home_team          0\n",
       "away_team          0\n",
       "toss_won           0\n",
       "decision           0\n",
       "winner             0\n",
       "start_date         0\n",
       "venue_id           0\n",
       "venue_name         0\n",
       "home_captain       0\n",
       "away_captain       0\n",
       "pom                0\n",
       "super_over         0\n",
       "home_overs         0\n",
       "home_runs          0\n",
       "home_wickets       0\n",
       "home_boundaries    0\n",
       "away_overs         0\n",
       "away_runs          0\n",
       "away_wickets       0\n",
       "away_boundaries    0\n",
       "dtype: int64"
      ]
     },
     "execution_count": 16,
     "metadata": {},
     "output_type": "execute_result"
    }
   ],
   "source": [
    "data.isna().sum()"
   ]
  },
  {
   "cell_type": "markdown",
   "id": "ce9b0747",
   "metadata": {
    "papermill": {
     "duration": 0.023752,
     "end_time": "2023-06-16T16:42:54.385901",
     "exception": false,
     "start_time": "2023-06-16T16:42:54.362149",
     "status": "completed"
    },
    "tags": []
   },
   "source": [
    "### Changing Data type of columns"
   ]
  },
  {
   "cell_type": "code",
   "execution_count": 17,
   "id": "94c9725f",
   "metadata": {
    "execution": {
     "iopub.execute_input": "2023-06-16T16:42:54.435852Z",
     "iopub.status.busy": "2023-06-16T16:42:54.435409Z",
     "iopub.status.idle": "2023-06-16T16:42:54.450568Z",
     "shell.execute_reply": "2023-06-16T16:42:54.449405Z"
    },
    "papermill": {
     "duration": 0.043215,
     "end_time": "2023-06-16T16:42:54.453318",
     "exception": false,
     "start_time": "2023-06-16T16:42:54.410103",
     "status": "completed"
    },
    "tags": []
   },
   "outputs": [],
   "source": [
    "data['start_date'] = pd.to_datetime(data['start_date'])\n",
    "data['super_over'] = data['super_over'].astype(bool)\n",
    "data['home_runs'] = data['home_runs'].astype('int16')\n",
    "data['home_wickets'] = data['home_wickets'].astype('int16')\n",
    "data['home_boundaries'] = data['home_boundaries'].astype('int16')\n",
    "data['away_runs'] = data['away_runs'].astype('int16')\n",
    "data['away_wickets'] = data['away_wickets'].astype('int16')\n",
    "data['away_boundaries'] = data['away_boundaries'].astype('int16')"
   ]
  },
  {
   "cell_type": "markdown",
   "id": "003c421b",
   "metadata": {
    "papermill": {
     "duration": 0.023578,
     "end_time": "2023-06-16T16:42:54.501142",
     "exception": false,
     "start_time": "2023-06-16T16:42:54.477564",
     "status": "completed"
    },
    "tags": []
   },
   "source": [
    "### Creating `city` column using `venue_name` column"
   ]
  },
  {
   "cell_type": "code",
   "execution_count": 18,
   "id": "2c41bcbf",
   "metadata": {
    "execution": {
     "iopub.execute_input": "2023-06-16T16:42:54.550407Z",
     "iopub.status.busy": "2023-06-16T16:42:54.550000Z",
     "iopub.status.idle": "2023-06-16T16:42:56.310337Z",
     "shell.execute_reply": "2023-06-16T16:42:56.309143Z"
    },
    "papermill": {
     "duration": 1.788308,
     "end_time": "2023-06-16T16:42:56.313249",
     "exception": false,
     "start_time": "2023-06-16T16:42:54.524941",
     "status": "completed"
    },
    "tags": []
   },
   "outputs": [],
   "source": [
    "data['city'] = ''\n",
    "for i in range(data.shape[0]):\n",
    "    data.loc[i, 'city'] = data['venue_name'].str.split(', ')[i][-1]"
   ]
  },
  {
   "cell_type": "markdown",
   "id": "8785fa78",
   "metadata": {
    "papermill": {
     "duration": 0.022979,
     "end_time": "2023-06-16T16:42:56.360931",
     "exception": false,
     "start_time": "2023-06-16T16:42:56.337952",
     "status": "completed"
    },
    "tags": []
   },
   "source": [
    "### Rearrancing columns"
   ]
  },
  {
   "cell_type": "code",
   "execution_count": 19,
   "id": "8eb1c96d",
   "metadata": {
    "execution": {
     "iopub.execute_input": "2023-06-16T16:42:56.409600Z",
     "iopub.status.busy": "2023-06-16T16:42:56.409116Z",
     "iopub.status.idle": "2023-06-16T16:42:56.420571Z",
     "shell.execute_reply": "2023-06-16T16:42:56.419288Z"
    },
    "papermill": {
     "duration": 0.038848,
     "end_time": "2023-06-16T16:42:56.422998",
     "exception": false,
     "start_time": "2023-06-16T16:42:56.384150",
     "status": "completed"
    },
    "tags": []
   },
   "outputs": [],
   "source": [
    "data = data[['season', 'id', 'name', 'short_name', 'home_team', 'away_team',\n",
    "       'toss_won', 'decision', 'winner', 'start_date', 'venue_id',\n",
    "       'venue_name','city', 'home_captain', 'away_captain', 'pom', 'super_over',\n",
    "       'home_overs', 'home_runs', 'home_wickets', 'home_boundaries',\n",
    "       'away_overs', 'away_runs', 'away_wickets', 'away_boundaries']]"
   ]
  },
  {
   "cell_type": "markdown",
   "id": "1d170fb0",
   "metadata": {
    "papermill": {
     "duration": 0.022955,
     "end_time": "2023-06-16T16:42:56.470363",
     "exception": false,
     "start_time": "2023-06-16T16:42:56.447408",
     "status": "completed"
    },
    "tags": []
   },
   "source": [
    "### Preview of Data"
   ]
  },
  {
   "cell_type": "code",
   "execution_count": 20,
   "id": "c4fc9872",
   "metadata": {
    "execution": {
     "iopub.execute_input": "2023-06-16T16:42:56.519019Z",
     "iopub.status.busy": "2023-06-16T16:42:56.518524Z",
     "iopub.status.idle": "2023-06-16T16:42:56.549162Z",
     "shell.execute_reply": "2023-06-16T16:42:56.548045Z"
    },
    "papermill": {
     "duration": 0.058031,
     "end_time": "2023-06-16T16:42:56.551578",
     "exception": false,
     "start_time": "2023-06-16T16:42:56.493547",
     "status": "completed"
    },
    "tags": []
   },
   "outputs": [
    {
     "data": {
      "text/html": [
       "<div>\n",
       "<style scoped>\n",
       "    .dataframe tbody tr th:only-of-type {\n",
       "        vertical-align: middle;\n",
       "    }\n",
       "\n",
       "    .dataframe tbody tr th {\n",
       "        vertical-align: top;\n",
       "    }\n",
       "\n",
       "    .dataframe thead th {\n",
       "        text-align: right;\n",
       "    }\n",
       "</style>\n",
       "<table border=\"1\" class=\"dataframe\">\n",
       "  <thead>\n",
       "    <tr style=\"text-align: right;\">\n",
       "      <th></th>\n",
       "      <th>season</th>\n",
       "      <th>id</th>\n",
       "      <th>name</th>\n",
       "      <th>short_name</th>\n",
       "      <th>home_team</th>\n",
       "      <th>away_team</th>\n",
       "      <th>toss_won</th>\n",
       "      <th>decision</th>\n",
       "      <th>winner</th>\n",
       "      <th>start_date</th>\n",
       "      <th>...</th>\n",
       "      <th>pom</th>\n",
       "      <th>super_over</th>\n",
       "      <th>home_overs</th>\n",
       "      <th>home_runs</th>\n",
       "      <th>home_wickets</th>\n",
       "      <th>home_boundaries</th>\n",
       "      <th>away_overs</th>\n",
       "      <th>away_runs</th>\n",
       "      <th>away_wickets</th>\n",
       "      <th>away_boundaries</th>\n",
       "    </tr>\n",
       "  </thead>\n",
       "  <tbody>\n",
       "    <tr>\n",
       "      <th>0</th>\n",
       "      <td>2023.0</td>\n",
       "      <td>1359544</td>\n",
       "      <td>Royal Challengers Bangalore v Gujarat Titans</td>\n",
       "      <td>RCB v GT</td>\n",
       "      <td>RCB</td>\n",
       "      <td>GT</td>\n",
       "      <td>GT</td>\n",
       "      <td>BOWL FIRST</td>\n",
       "      <td>GT</td>\n",
       "      <td>2023-05-21 14:00:00+00:00</td>\n",
       "      <td>...</td>\n",
       "      <td>Shubman Gill</td>\n",
       "      <td>False</td>\n",
       "      <td>20.0</td>\n",
       "      <td>197</td>\n",
       "      <td>5</td>\n",
       "      <td>28</td>\n",
       "      <td>19.1</td>\n",
       "      <td>198</td>\n",
       "      <td>4</td>\n",
       "      <td>25</td>\n",
       "    </tr>\n",
       "    <tr>\n",
       "      <th>1</th>\n",
       "      <td>2023.0</td>\n",
       "      <td>1359543</td>\n",
       "      <td>Mumbai Indians v Sunrisers Hyderabad</td>\n",
       "      <td>MI v SRH</td>\n",
       "      <td>MI</td>\n",
       "      <td>SRH</td>\n",
       "      <td>MI</td>\n",
       "      <td>BOWL FIRST</td>\n",
       "      <td>MI</td>\n",
       "      <td>2023-05-21 10:00:00+00:00</td>\n",
       "      <td>...</td>\n",
       "      <td>Cameron Green</td>\n",
       "      <td>False</td>\n",
       "      <td>18.0</td>\n",
       "      <td>201</td>\n",
       "      <td>2</td>\n",
       "      <td>31</td>\n",
       "      <td>20.0</td>\n",
       "      <td>200</td>\n",
       "      <td>5</td>\n",
       "      <td>27</td>\n",
       "    </tr>\n",
       "    <tr>\n",
       "      <th>2</th>\n",
       "      <td>2023.0</td>\n",
       "      <td>1359542</td>\n",
       "      <td>Kolkata Knight Riders v Lucknow Super Giants</td>\n",
       "      <td>KKR v LSG</td>\n",
       "      <td>KKR</td>\n",
       "      <td>LSG</td>\n",
       "      <td>KKR</td>\n",
       "      <td>BOWL FIRST</td>\n",
       "      <td>LSG</td>\n",
       "      <td>2023-05-20 14:00:00+00:00</td>\n",
       "      <td>...</td>\n",
       "      <td>Nicholas Pooran</td>\n",
       "      <td>False</td>\n",
       "      <td>20.0</td>\n",
       "      <td>175</td>\n",
       "      <td>7</td>\n",
       "      <td>24</td>\n",
       "      <td>20.0</td>\n",
       "      <td>176</td>\n",
       "      <td>8</td>\n",
       "      <td>22</td>\n",
       "    </tr>\n",
       "    <tr>\n",
       "      <th>3</th>\n",
       "      <td>2023.0</td>\n",
       "      <td>1359541</td>\n",
       "      <td>Delhi Capitals v Chennai Super Kings</td>\n",
       "      <td>DC v CSK</td>\n",
       "      <td>DC</td>\n",
       "      <td>CSK</td>\n",
       "      <td>CSK</td>\n",
       "      <td>BAT FIRST</td>\n",
       "      <td>CSK</td>\n",
       "      <td>2023-05-20 10:00:00+00:00</td>\n",
       "      <td>...</td>\n",
       "      <td>Ruturaj Gaikwad</td>\n",
       "      <td>False</td>\n",
       "      <td>20.0</td>\n",
       "      <td>146</td>\n",
       "      <td>9</td>\n",
       "      <td>17</td>\n",
       "      <td>20.0</td>\n",
       "      <td>223</td>\n",
       "      <td>3</td>\n",
       "      <td>31</td>\n",
       "    </tr>\n",
       "    <tr>\n",
       "      <th>4</th>\n",
       "      <td>2023.0</td>\n",
       "      <td>1359540</td>\n",
       "      <td>Punjab Kings v Rajasthan Royals</td>\n",
       "      <td>PBKS v RR</td>\n",
       "      <td>PBKS</td>\n",
       "      <td>RR</td>\n",
       "      <td>RR</td>\n",
       "      <td>BOWL FIRST</td>\n",
       "      <td>RR</td>\n",
       "      <td>2023-05-19 14:00:00+00:00</td>\n",
       "      <td>...</td>\n",
       "      <td>Devdutt Padikkal</td>\n",
       "      <td>False</td>\n",
       "      <td>20.0</td>\n",
       "      <td>187</td>\n",
       "      <td>5</td>\n",
       "      <td>26</td>\n",
       "      <td>19.4</td>\n",
       "      <td>189</td>\n",
       "      <td>6</td>\n",
       "      <td>27</td>\n",
       "    </tr>\n",
       "  </tbody>\n",
       "</table>\n",
       "<p>5 rows × 25 columns</p>\n",
       "</div>"
      ],
      "text/plain": [
       "   season       id                                          name short_name  \\\n",
       "0  2023.0  1359544  Royal Challengers Bangalore v Gujarat Titans   RCB v GT   \n",
       "1  2023.0  1359543          Mumbai Indians v Sunrisers Hyderabad   MI v SRH   \n",
       "2  2023.0  1359542  Kolkata Knight Riders v Lucknow Super Giants  KKR v LSG   \n",
       "3  2023.0  1359541          Delhi Capitals v Chennai Super Kings   DC v CSK   \n",
       "4  2023.0  1359540               Punjab Kings v Rajasthan Royals  PBKS v RR   \n",
       "\n",
       "  home_team away_team toss_won    decision winner                start_date  \\\n",
       "0       RCB        GT       GT  BOWL FIRST     GT 2023-05-21 14:00:00+00:00   \n",
       "1        MI       SRH       MI  BOWL FIRST     MI 2023-05-21 10:00:00+00:00   \n",
       "2       KKR       LSG      KKR  BOWL FIRST    LSG 2023-05-20 14:00:00+00:00   \n",
       "3        DC       CSK      CSK   BAT FIRST    CSK 2023-05-20 10:00:00+00:00   \n",
       "4      PBKS        RR       RR  BOWL FIRST     RR 2023-05-19 14:00:00+00:00   \n",
       "\n",
       "   ...               pom super_over home_overs home_runs home_wickets  \\\n",
       "0  ...      Shubman Gill      False       20.0       197            5   \n",
       "1  ...     Cameron Green      False       18.0       201            2   \n",
       "2  ...   Nicholas Pooran      False       20.0       175            7   \n",
       "3  ...   Ruturaj Gaikwad      False       20.0       146            9   \n",
       "4  ...  Devdutt Padikkal      False       20.0       187            5   \n",
       "\n",
       "  home_boundaries  away_overs  away_runs  away_wickets  away_boundaries  \n",
       "0              28        19.1        198             4               25  \n",
       "1              31        20.0        200             5               27  \n",
       "2              24        20.0        176             8               22  \n",
       "3              17        20.0        223             3               31  \n",
       "4              26        19.4        189             6               27  \n",
       "\n",
       "[5 rows x 25 columns]"
      ]
     },
     "execution_count": 20,
     "metadata": {},
     "output_type": "execute_result"
    }
   ],
   "source": [
    "data.head()"
   ]
  },
  {
   "cell_type": "markdown",
   "id": "677f9596",
   "metadata": {
    "papermill": {
     "duration": 0.024463,
     "end_time": "2023-06-16T16:42:56.600738",
     "exception": false,
     "start_time": "2023-06-16T16:42:56.576275",
     "status": "completed"
    },
    "tags": []
   },
   "source": [
    "For now our data is all set we can now perform Analysis and Visualizations, if more data cleaning required we will perform that later"
   ]
  },
  {
   "cell_type": "markdown",
   "id": "de57223c",
   "metadata": {
    "papermill": {
     "duration": 0.02358,
     "end_time": "2023-06-16T16:42:56.648660",
     "exception": false,
     "start_time": "2023-06-16T16:42:56.625080",
     "status": "completed"
    },
    "tags": []
   },
   "source": [
    "## Exploratory Analysis and Visualization\n",
    "\n",
    "In this section we will perform some Analysis and present them in form of Graphs or you can say that Visuals\n",
    "\n"
   ]
  },
  {
   "cell_type": "markdown",
   "id": "a2e6d911",
   "metadata": {
    "papermill": {
     "duration": 0.023434,
     "end_time": "2023-06-16T16:42:56.695993",
     "exception": false,
     "start_time": "2023-06-16T16:42:56.672559",
     "status": "completed"
    },
    "tags": []
   },
   "source": [
    "Let's begin by importing `matplotlib.pyplot` and `seaborn`."
   ]
  },
  {
   "cell_type": "code",
   "execution_count": 21,
   "id": "26cafe00",
   "metadata": {
    "execution": {
     "iopub.execute_input": "2023-06-16T16:42:56.746369Z",
     "iopub.status.busy": "2023-06-16T16:42:56.745875Z",
     "iopub.status.idle": "2023-06-16T16:42:58.273109Z",
     "shell.execute_reply": "2023-06-16T16:42:58.272123Z"
    },
    "papermill": {
     "duration": 1.555323,
     "end_time": "2023-06-16T16:42:58.275834",
     "exception": false,
     "start_time": "2023-06-16T16:42:56.720511",
     "status": "completed"
    },
    "tags": []
   },
   "outputs": [],
   "source": [
    "import seaborn as sns\n",
    "import matplotlib\n",
    "import matplotlib.pyplot as plt\n",
    "%matplotlib inline\n",
    "\n",
    "sns.set_style('darkgrid')\n",
    "matplotlib.rcParams['font.size'] = 14\n",
    "matplotlib.rcParams['figure.figsize'] = (9, 5)\n",
    "matplotlib.rcParams['figure.facecolor'] = '#00000000'"
   ]
  },
  {
   "cell_type": "markdown",
   "id": "51b1cf82",
   "metadata": {
    "papermill": {
     "duration": 0.02346,
     "end_time": "2023-06-16T16:42:58.324027",
     "exception": false,
     "start_time": "2023-06-16T16:42:58.300567",
     "status": "completed"
    },
    "tags": []
   },
   "source": [
    "### Season\n",
    "\n",
    "Let's explore `season` column and plot a bar chart to get some information"
   ]
  },
  {
   "cell_type": "code",
   "execution_count": 22,
   "id": "768f59d8",
   "metadata": {
    "execution": {
     "iopub.execute_input": "2023-06-16T16:42:58.375864Z",
     "iopub.status.busy": "2023-06-16T16:42:58.374349Z",
     "iopub.status.idle": "2023-06-16T16:42:58.389089Z",
     "shell.execute_reply": "2023-06-16T16:42:58.387875Z"
    },
    "papermill": {
     "duration": 0.04303,
     "end_time": "2023-06-16T16:42:58.391454",
     "exception": false,
     "start_time": "2023-06-16T16:42:58.348424",
     "status": "completed"
    },
    "tags": []
   },
   "outputs": [
    {
     "data": {
      "text/plain": [
       "2008.0    59\n",
       "2009.0    59\n",
       "2010.0    60\n",
       "2011.0    74\n",
       "2012.0    76\n",
       "2013.0    76\n",
       "2014.0    60\n",
       "2015.0    60\n",
       "2016.0    60\n",
       "2017.0    60\n",
       "2018.0    60\n",
       "2019.0    60\n",
       "2020.0    60\n",
       "2021.0    60\n",
       "2022.0    74\n",
       "2023.0    69\n",
       "Name: season, dtype: int64"
      ]
     },
     "execution_count": 22,
     "metadata": {},
     "output_type": "execute_result"
    }
   ],
   "source": [
    "no_of_matches = data['season'].value_counts().sort_index()\n",
    "no_of_matches"
   ]
  },
  {
   "cell_type": "code",
   "execution_count": 23,
   "id": "10d6255f",
   "metadata": {
    "execution": {
     "iopub.execute_input": "2023-06-16T16:42:58.443280Z",
     "iopub.status.busy": "2023-06-16T16:42:58.441753Z",
     "iopub.status.idle": "2023-06-16T16:42:59.064076Z",
     "shell.execute_reply": "2023-06-16T16:42:59.062942Z"
    },
    "papermill": {
     "duration": 0.650803,
     "end_time": "2023-06-16T16:42:59.066670",
     "exception": false,
     "start_time": "2023-06-16T16:42:58.415867",
     "status": "completed"
    },
    "tags": []
   },
   "outputs": [
    {
     "data": {
      "image/png": "[encoded data removed]",
      "text/plain": [
       "<Figure size 900x500 with 1 Axes>"
      ]
     },
     "metadata": {
      "needs_background": "light"
     },
     "output_type": "display_data"
    }
   ],
   "source": [
    "no_of_matches.plot(kind='bar' ,color='#ed7299')\n",
    "plt.title('Number of Matches Played per Season')\n",
    "plt.xlabel('Season')\n",
    "plt.ylabel('Number of Matches Played')\n",
    "plt.show()"
   ]
  },
  {
   "cell_type": "markdown",
   "id": "a3b9e8da",
   "metadata": {
    "papermill": {
     "duration": 0.026227,
     "end_time": "2023-06-16T16:42:59.118984",
     "exception": false,
     "start_time": "2023-06-16T16:42:59.092757",
     "status": "completed"
    },
    "tags": []
   },
   "source": [
    "So by this graph we get an idea the number of matches played per season\n",
    "\n",
    "Also, we can conclude that:\n",
    "- In seasons `2011`, `2012`, `2013`, `2022`, `2023` , number of matches played are more than the usual range \n",
    "- Rest in almost every season total matches played are nearly equalt to `60`"
   ]
  },
  {
   "cell_type": "markdown",
   "id": "72702b15",
   "metadata": {
    "papermill": {
     "duration": 0.024211,
     "end_time": "2023-06-16T16:42:59.168454",
     "exception": false,
     "start_time": "2023-06-16T16:42:59.144243",
     "status": "completed"
    },
    "tags": []
   },
   "source": [
    "### toss_won\n",
    "\n",
    "Let's explore `toss_won` column and plot a Horizontal bar chart to get some information"
   ]
  },
  {
   "cell_type": "code",
   "execution_count": 24,
   "id": "d9672c70",
   "metadata": {
    "execution": {
     "iopub.execute_input": "2023-06-16T16:42:59.221040Z",
     "iopub.status.busy": "2023-06-16T16:42:59.219949Z",
     "iopub.status.idle": "2023-06-16T16:42:59.231696Z",
     "shell.execute_reply": "2023-06-16T16:42:59.230500Z"
    },
    "papermill": {
     "duration": 0.040358,
     "end_time": "2023-06-16T16:42:59.234027",
     "exception": false,
     "start_time": "2023-06-16T16:42:59.193669",
     "status": "completed"
    },
    "tags": []
   },
   "outputs": [
    {
     "data": {
      "text/plain": [
       "PBKS         5\n",
       "no toss      7\n",
       "Kochi        8\n",
       "LSG         10\n",
       "RPS         13\n",
       "GL          15\n",
       "GT          18\n",
       "PWI         20\n",
       "KXIP        94\n",
       "RR         109\n",
       "RCB        114\n",
       "CSK        117\n",
       "KKR        119\n",
       "DC         123\n",
       "SRH        124\n",
       "MI         131\n",
       "Name: toss_won, dtype: int64"
      ]
     },
     "execution_count": 24,
     "metadata": {},
     "output_type": "execute_result"
    }
   ],
   "source": [
    "toss_won = data['toss_won'].value_counts().sort_values(ascending=True)\n",
    "toss_won"
   ]
  },
  {
   "cell_type": "code",
   "execution_count": 25,
   "id": "9930843d",
   "metadata": {
    "execution": {
     "iopub.execute_input": "2023-06-16T16:42:59.288564Z",
     "iopub.status.busy": "2023-06-16T16:42:59.287238Z",
     "iopub.status.idle": "2023-06-16T16:42:59.771568Z",
     "shell.execute_reply": "2023-06-16T16:42:59.770493Z"
    },
    "papermill": {
     "duration": 0.513306,
     "end_time": "2023-06-16T16:42:59.774129",
     "exception": false,
     "start_time": "2023-06-16T16:42:59.260823",
     "status": "completed"
    },
    "tags": []
   },
   "outputs": [
    {
     "data": {
      "image/png": "[encoded data removed]",
      "text/plain": [
       "<Figure size 900x500 with 1 Axes>"
      ]
     },
     "metadata": {
      "needs_background": "light"
     },
     "output_type": "display_data"
    }
   ],
   "source": [
    "toss_won.plot(kind='barh',color='#2a5233')\n",
    "plt.title('Number of Tosses won by each Team')\n",
    "plt.xlabel('Number of Tosses Won')\n",
    "plt.ylabel('Team Name')\n",
    "plt.show()"
   ]
  },
  {
   "cell_type": "markdown",
   "id": "3c41e61e",
   "metadata": {
    "papermill": {
     "duration": 0.027805,
     "end_time": "2023-06-16T16:42:59.827080",
     "exception": false,
     "start_time": "2023-06-16T16:42:59.799275",
     "status": "completed"
    },
    "tags": []
   },
   "source": [
    "By this above graph we can easily conclude that:\n",
    "\n",
    "- Almost `50%` teams of the total teams whose toss winning chances are much higer than `50%` \n",
    "- Toss winning chances of `MI (Mumbai Indians)` are highest than other teams\n",
    "- Toss winning chances of `PBKS (Punjab Kings)` are lowest than other teams"
   ]
  },
  {
   "cell_type": "markdown",
   "id": "5e914e8e",
   "metadata": {
    "papermill": {
     "duration": 0.025826,
     "end_time": "2023-06-16T16:42:59.879244",
     "exception": false,
     "start_time": "2023-06-16T16:42:59.853418",
     "status": "completed"
    },
    "tags": []
   },
   "source": [
    "### Decision\n",
    "\n",
    "Let's explore `decision` column and plot a pie chart to get some information"
   ]
  },
  {
   "cell_type": "code",
   "execution_count": 26,
   "id": "b161bc8c",
   "metadata": {
    "execution": {
     "iopub.execute_input": "2023-06-16T16:42:59.933986Z",
     "iopub.status.busy": "2023-06-16T16:42:59.933464Z",
     "iopub.status.idle": "2023-06-16T16:42:59.941897Z",
     "shell.execute_reply": "2023-06-16T16:42:59.941003Z"
    },
    "papermill": {
     "duration": 0.038626,
     "end_time": "2023-06-16T16:42:59.944179",
     "exception": false,
     "start_time": "2023-06-16T16:42:59.905553",
     "status": "completed"
    },
    "tags": []
   },
   "outputs": [],
   "source": [
    "bowl_first = data['decision'].value_counts()[0]\n",
    "bat_first = data['decision'].value_counts()[1]"
   ]
  },
  {
   "cell_type": "code",
   "execution_count": 27,
   "id": "a770b49a",
   "metadata": {
    "execution": {
     "iopub.execute_input": "2023-06-16T16:42:59.999754Z",
     "iopub.status.busy": "2023-06-16T16:42:59.999365Z",
     "iopub.status.idle": "2023-06-16T16:43:00.171121Z",
     "shell.execute_reply": "2023-06-16T16:43:00.169641Z"
    },
    "papermill": {
     "duration": 0.204172,
     "end_time": "2023-06-16T16:43:00.175800",
     "exception": false,
     "start_time": "2023-06-16T16:42:59.971628",
     "status": "completed"
    },
    "tags": []
   },
   "outputs": [
    {
     "data": {
      "image/png": "[encoded data removed]",
      "text/plain": [
       "<Figure size 900x500 with 1 Axes>"
      ]
     },
     "metadata": {},
     "output_type": "display_data"
    }
   ],
   "source": [
    "plt.pie([bowl_first,bat_first],labels=['Bowl First','Bat First'],autopct='%1.1f%%')\n",
    "plt.title('Bat First VS Bowl First Ratio')\n",
    "plt.show()"
   ]
  },
  {
   "cell_type": "markdown",
   "id": "eb26cc20",
   "metadata": {
    "papermill": {
     "duration": 0.026635,
     "end_time": "2023-06-16T16:43:00.251236",
     "exception": false,
     "start_time": "2023-06-16T16:43:00.224601",
     "status": "completed"
    },
    "tags": []
   },
   "source": [
    "According to this pie chart we can conclude that:\n",
    "\n",
    "- About `63.3%` of the teams prefer to choose `bowl` first\n",
    "- About `36.4%` of the teams prefer to choose `bat` first"
   ]
  },
  {
   "cell_type": "markdown",
   "id": "7cf93616",
   "metadata": {
    "papermill": {
     "duration": 0.026111,
     "end_time": "2023-06-16T16:43:00.303761",
     "exception": false,
     "start_time": "2023-06-16T16:43:00.277650",
     "status": "completed"
    },
    "tags": []
   },
   "source": [
    "### home_team VS away_team\n",
    "\n",
    "Let's explore `home_team`, `away_team` column and plot a scatter plot to get some information"
   ]
  },
  {
   "cell_type": "code",
   "execution_count": 28,
   "id": "42007f70",
   "metadata": {
    "execution": {
     "iopub.execute_input": "2023-06-16T16:43:00.359853Z",
     "iopub.status.busy": "2023-06-16T16:43:00.358560Z",
     "iopub.status.idle": "2023-06-16T16:43:00.855241Z",
     "shell.execute_reply": "2023-06-16T16:43:00.853599Z"
    },
    "papermill": {
     "duration": 0.528011,
     "end_time": "2023-06-16T16:43:00.858147",
     "exception": false,
     "start_time": "2023-06-16T16:43:00.330136",
     "status": "completed"
    },
    "tags": []
   },
   "outputs": [
    {
     "data": {
      "image/png": "[encoded data removed]",
      "text/plain": [
       "<Figure size 900x500 with 1 Axes>"
      ]
     },
     "metadata": {
      "needs_background": "light"
     },
     "output_type": "display_data"
    }
   ],
   "source": [
    "plt.scatter(x=data['home_team'],y=data['away_team'],color='#388a86')\n",
    "plt.xticks(rotation=70)\n",
    "plt.title('Team1 Vs Team2')\n",
    "plt.xlabel('Home Team')\n",
    "plt.ylabel('Away Team')\n",
    "plt.show()"
   ]
  },
  {
   "cell_type": "markdown",
   "id": "7bde8849",
   "metadata": {
    "papermill": {
     "duration": 0.027074,
     "end_time": "2023-06-16T16:43:00.912571",
     "exception": false,
     "start_time": "2023-06-16T16:43:00.885497",
     "status": "completed"
    },
    "tags": []
   },
   "source": [
    "By this above graphs we can conclude that:\n",
    "\n",
    "- Only `RCB`, `MI`, `KKR` and `DC` played matches with all other teams\n",
    "- Rest of the teams haven't played with atleast `1` other team"
   ]
  },
  {
   "cell_type": "markdown",
   "id": "d57d9edb",
   "metadata": {
    "papermill": {
     "duration": 0.027462,
     "end_time": "2023-06-16T16:43:00.968425",
     "exception": false,
     "start_time": "2023-06-16T16:43:00.940963",
     "status": "completed"
    },
    "tags": []
   },
   "source": [
    "## Asking and Answering Questions\n",
    "\n",
    "In this section we will answering some of the questions regarding this dataset of `Cricket` \n",
    "\n"
   ]
  },
  {
   "cell_type": "markdown",
   "id": "b8094b99",
   "metadata": {
    "papermill": {
     "duration": 0.028223,
     "end_time": "2023-06-16T16:43:01.024268",
     "exception": false,
     "start_time": "2023-06-16T16:43:00.996045",
     "status": "completed"
    },
    "tags": []
   },
   "source": [
    "### Q1: What are the percentage of winning a match if we won toss"
   ]
  },
  {
   "cell_type": "code",
   "execution_count": 29,
   "id": "b41702a9",
   "metadata": {
    "execution": {
     "iopub.execute_input": "2023-06-16T16:43:01.084778Z",
     "iopub.status.busy": "2023-06-16T16:43:01.084300Z",
     "iopub.status.idle": "2023-06-16T16:43:01.099372Z",
     "shell.execute_reply": "2023-06-16T16:43:01.097574Z"
    },
    "papermill": {
     "duration": 0.048156,
     "end_time": "2023-06-16T16:43:01.102069",
     "exception": false,
     "start_time": "2023-06-16T16:43:01.053913",
     "status": "completed"
    },
    "tags": []
   },
   "outputs": [
    {
     "name": "stdout",
     "output_type": "stream",
     "text": [
      "Winning perc: 50.83\n",
      "Loosing perc: 49.17\n"
     ]
    }
   ],
   "source": [
    "success = data[data['toss_won'] == data['winner']].shape[0]\n",
    "failure = data[data['toss_won'] != data['winner']].shape[0]\n",
    "\n",
    "total_matches = success + failure\n",
    "\n",
    "winning_perc = round(success/total_matches*100,2)\n",
    "failure_perc = round(failure/total_matches*100,2)\n",
    "\n",
    "print('Winning perc:', winning_perc)\n",
    "print('Loosing perc:', failure_perc)"
   ]
  },
  {
   "cell_type": "code",
   "execution_count": 30,
   "id": "7bfe785b",
   "metadata": {
    "execution": {
     "iopub.execute_input": "2023-06-16T16:43:01.159076Z",
     "iopub.status.busy": "2023-06-16T16:43:01.158300Z",
     "iopub.status.idle": "2023-06-16T16:43:01.445857Z",
     "shell.execute_reply": "2023-06-16T16:43:01.444969Z"
    },
    "papermill": {
     "duration": 0.318901,
     "end_time": "2023-06-16T16:43:01.448293",
     "exception": false,
     "start_time": "2023-06-16T16:43:01.129392",
     "status": "completed"
    },
    "tags": []
   },
   "outputs": [
    {
     "data": {
      "image/png": "[encoded data removed]",
      "text/plain": [
       "<Figure size 900x500 with 1 Axes>"
      ]
     },
     "metadata": {
      "needs_background": "light"
     },
     "output_type": "display_data"
    }
   ],
   "source": [
    "plt.bar(['Win','Loss'], [winning_perc,failure_perc],width=0.5)\n",
    "plt.ylabel(\"Percentage (in %)\")\n",
    "plt.title(\"Percentage of Winning or Loosing Match After Winning Toss\")\n",
    "plt.show()"
   ]
  },
  {
   "cell_type": "markdown",
   "id": "12814c95",
   "metadata": {
    "papermill": {
     "duration": 0.027577,
     "end_time": "2023-06-16T16:43:01.503003",
     "exception": false,
     "start_time": "2023-06-16T16:43:01.475426",
     "status": "completed"
    },
    "tags": []
   },
   "source": [
    "Let's understand this graph:\n",
    "1. This graph represents `Winning` and `Loosing` percentage of a team after `Winning` a toss\n",
    "1. By this graph we can say that:\n",
    "    - It actually depends on luck\n",
    "    - As both are of about same size\n",
    "    - But `Win` percentage is slightly higher then `Loss`"
   ]
  },
  {
   "cell_type": "markdown",
   "id": "07c1b8aa",
   "metadata": {
    "papermill": {
     "duration": 0.026658,
     "end_time": "2023-06-16T16:43:01.556599",
     "exception": false,
     "start_time": "2023-06-16T16:43:01.529941",
     "status": "completed"
    },
    "tags": []
   },
   "source": [
    "### Q2: What are the total number of boundries by home team and away team per season"
   ]
  },
  {
   "cell_type": "code",
   "execution_count": 31,
   "id": "6e7510f8",
   "metadata": {
    "execution": {
     "iopub.execute_input": "2023-06-16T16:43:01.613162Z",
     "iopub.status.busy": "2023-06-16T16:43:01.612677Z",
     "iopub.status.idle": "2023-06-16T16:43:01.631804Z",
     "shell.execute_reply": "2023-06-16T16:43:01.630853Z"
    },
    "papermill": {
     "duration": 0.050369,
     "end_time": "2023-06-16T16:43:01.634012",
     "exception": false,
     "start_time": "2023-06-16T16:43:01.583643",
     "status": "completed"
    },
    "tags": []
   },
   "outputs": [
    {
     "data": {
      "text/html": [
       "<div>\n",
       "<style scoped>\n",
       "    .dataframe tbody tr th:only-of-type {\n",
       "        vertical-align: middle;\n",
       "    }\n",
       "\n",
       "    .dataframe tbody tr th {\n",
       "        vertical-align: top;\n",
       "    }\n",
       "\n",
       "    .dataframe thead th {\n",
       "        text-align: right;\n",
       "    }\n",
       "</style>\n",
       "<table border=\"1\" class=\"dataframe\">\n",
       "  <thead>\n",
       "    <tr style=\"text-align: right;\">\n",
       "      <th></th>\n",
       "      <th>home_boundaries</th>\n",
       "      <th>away_boundaries</th>\n",
       "    </tr>\n",
       "    <tr>\n",
       "      <th>season</th>\n",
       "      <th></th>\n",
       "      <th></th>\n",
       "    </tr>\n",
       "  </thead>\n",
       "  <tbody>\n",
       "    <tr>\n",
       "      <th>2008.0</th>\n",
       "      <td>1157</td>\n",
       "      <td>1171</td>\n",
       "    </tr>\n",
       "    <tr>\n",
       "      <th>2009.0</th>\n",
       "      <td>922</td>\n",
       "      <td>905</td>\n",
       "    </tr>\n",
       "    <tr>\n",
       "      <th>2010.0</th>\n",
       "      <td>1160</td>\n",
       "      <td>1124</td>\n",
       "    </tr>\n",
       "    <tr>\n",
       "      <th>2011.0</th>\n",
       "      <td>1292</td>\n",
       "      <td>1256</td>\n",
       "    </tr>\n",
       "    <tr>\n",
       "      <th>2012.0</th>\n",
       "      <td>1302</td>\n",
       "      <td>1338</td>\n",
       "    </tr>\n",
       "    <tr>\n",
       "      <th>2013.0</th>\n",
       "      <td>1422</td>\n",
       "      <td>1303</td>\n",
       "    </tr>\n",
       "    <tr>\n",
       "      <th>2014.0</th>\n",
       "      <td>1169</td>\n",
       "      <td>1107</td>\n",
       "    </tr>\n",
       "    <tr>\n",
       "      <th>2015.0</th>\n",
       "      <td>1157</td>\n",
       "      <td>1142</td>\n",
       "    </tr>\n",
       "    <tr>\n",
       "      <th>2016.0</th>\n",
       "      <td>1144</td>\n",
       "      <td>1126</td>\n",
       "    </tr>\n",
       "    <tr>\n",
       "      <th>2017.0</th>\n",
       "      <td>1167</td>\n",
       "      <td>1147</td>\n",
       "    </tr>\n",
       "    <tr>\n",
       "      <th>2018.0</th>\n",
       "      <td>1300</td>\n",
       "      <td>1223</td>\n",
       "    </tr>\n",
       "    <tr>\n",
       "      <th>2019.0</th>\n",
       "      <td>1249</td>\n",
       "      <td>1188</td>\n",
       "    </tr>\n",
       "    <tr>\n",
       "      <th>2020.0</th>\n",
       "      <td>1156</td>\n",
       "      <td>1160</td>\n",
       "    </tr>\n",
       "    <tr>\n",
       "      <th>2021.0</th>\n",
       "      <td>1145</td>\n",
       "      <td>1090</td>\n",
       "    </tr>\n",
       "    <tr>\n",
       "      <th>2022.0</th>\n",
       "      <td>1492</td>\n",
       "      <td>1587</td>\n",
       "    </tr>\n",
       "    <tr>\n",
       "      <th>2023.0</th>\n",
       "      <td>1547</td>\n",
       "      <td>1566</td>\n",
       "    </tr>\n",
       "  </tbody>\n",
       "</table>\n",
       "</div>"
      ],
      "text/plain": [
       "        home_boundaries  away_boundaries\n",
       "season                                  \n",
       "2008.0             1157             1171\n",
       "2009.0              922              905\n",
       "2010.0             1160             1124\n",
       "2011.0             1292             1256\n",
       "2012.0             1302             1338\n",
       "2013.0             1422             1303\n",
       "2014.0             1169             1107\n",
       "2015.0             1157             1142\n",
       "2016.0             1144             1126\n",
       "2017.0             1167             1147\n",
       "2018.0             1300             1223\n",
       "2019.0             1249             1188\n",
       "2020.0             1156             1160\n",
       "2021.0             1145             1090\n",
       "2022.0             1492             1587\n",
       "2023.0             1547             1566"
      ]
     },
     "execution_count": 31,
     "metadata": {},
     "output_type": "execute_result"
    }
   ],
   "source": [
    "boundries = data.groupby('season')[['home_boundaries','away_boundaries']].sum()\n",
    "boundries"
   ]
  },
  {
   "cell_type": "code",
   "execution_count": 32,
   "id": "31d2f326",
   "metadata": {
    "execution": {
     "iopub.execute_input": "2023-06-16T16:43:01.691623Z",
     "iopub.status.busy": "2023-06-16T16:43:01.690925Z",
     "iopub.status.idle": "2023-06-16T16:43:02.238005Z",
     "shell.execute_reply": "2023-06-16T16:43:02.236825Z"
    },
    "papermill": {
     "duration": 0.579029,
     "end_time": "2023-06-16T16:43:02.240457",
     "exception": false,
     "start_time": "2023-06-16T16:43:01.661428",
     "status": "completed"
    },
    "tags": []
   },
   "outputs": [
    {
     "data": {
      "image/png": "[encoded data removed]",
      "text/plain": [
       "<Figure size 900x500 with 1 Axes>"
      ]
     },
     "metadata": {
      "needs_background": "light"
     },
     "output_type": "display_data"
    }
   ],
   "source": [
    "sns.lineplot(boundries)\n",
    "plt.title('Boundries by Teams in each Season')\n",
    "plt.xlabel('Seasons')\n",
    "plt.ylabel('Number of Broundries')\n",
    "plt.show()"
   ]
  },
  {
   "cell_type": "markdown",
   "id": "3714dac8",
   "metadata": {
    "papermill": {
     "duration": 0.028905,
     "end_time": "2023-06-16T16:43:02.298637",
     "exception": false,
     "start_time": "2023-06-16T16:43:02.269732",
     "status": "completed"
    },
    "tags": []
   },
   "source": [
    "Let's understand this graph:\n",
    "1. This graph represents number of `boundries` made by `home` team and `away` team per `season`\n",
    "1. By this graph we can say that:\n",
    "    - There is no major jump between `home_boundries` and `away_boundries`.\n",
    "    - As in each season both teams made almost same number of `boundries`.\n",
    "    - In season `2009` least number of boundries are made by both teams.\n",
    "    - `away_team` made highest boundries in season `2022` while `home_team` made highest in season `2023`"
   ]
  },
  {
   "cell_type": "markdown",
   "id": "1b912c80",
   "metadata": {
    "papermill": {
     "duration": 0.028176,
     "end_time": "2023-06-16T16:43:02.355197",
     "exception": false,
     "start_time": "2023-06-16T16:43:02.327021",
     "status": "completed"
    },
    "tags": []
   },
   "source": [
    "### Q3: How many super over occured per season"
   ]
  },
  {
   "cell_type": "code",
   "execution_count": 33,
   "id": "69672deb",
   "metadata": {
    "execution": {
     "iopub.execute_input": "2023-06-16T16:43:02.414388Z",
     "iopub.status.busy": "2023-06-16T16:43:02.413991Z",
     "iopub.status.idle": "2023-06-16T16:43:02.428880Z",
     "shell.execute_reply": "2023-06-16T16:43:02.427440Z"
    },
    "papermill": {
     "duration": 0.047491,
     "end_time": "2023-06-16T16:43:02.431300",
     "exception": false,
     "start_time": "2023-06-16T16:43:02.383809",
     "status": "completed"
    },
    "tags": []
   },
   "outputs": [
    {
     "name": "stdout",
     "output_type": "stream",
     "text": [
      "Total super overs occured in entire cricket period = 7\n"
     ]
    }
   ],
   "source": [
    "super_overs = data.groupby('season')['super_over'].sum()\n",
    "super_df = super_overs.reset_index()\n",
    "ans = (super_df['super_over'] !=0).sum()\n",
    "\n",
    "print('Total super overs occured in entire cricket period =',ans)"
   ]
  },
  {
   "cell_type": "code",
   "execution_count": 34,
   "id": "40eb55b1",
   "metadata": {
    "execution": {
     "iopub.execute_input": "2023-06-16T16:43:02.492813Z",
     "iopub.status.busy": "2023-06-16T16:43:02.491563Z",
     "iopub.status.idle": "2023-06-16T16:43:02.947670Z",
     "shell.execute_reply": "2023-06-16T16:43:02.946338Z"
    },
    "papermill": {
     "duration": 0.489363,
     "end_time": "2023-06-16T16:43:02.950253",
     "exception": false,
     "start_time": "2023-06-16T16:43:02.460890",
     "status": "completed"
    },
    "tags": []
   },
   "outputs": [
    {
     "data": {
      "image/png": "[encoded data removed]",
      "text/plain": [
       "<Figure size 900x500 with 1 Axes>"
      ]
     },
     "metadata": {
      "needs_background": "light"
     },
     "output_type": "display_data"
    }
   ],
   "source": [
    "plt.plot(super_overs)\n",
    "plt.title('No. of super over occured per Season')\n",
    "plt.xlabel('Seasons')\n",
    "plt.ylabel('Number of super overs')\n",
    "plt.show()"
   ]
  },
  {
   "cell_type": "markdown",
   "id": "e2117873",
   "metadata": {
    "papermill": {
     "duration": 0.033708,
     "end_time": "2023-06-16T16:43:03.014071",
     "exception": false,
     "start_time": "2023-06-16T16:43:02.980363",
     "status": "completed"
    },
    "tags": []
   },
   "source": [
    "Let's understand this graph:\n",
    "1. This graph represents number of `super over occured` per `season`\n",
    "1. By this graph we can say that:\n",
    "    - In total `7` super over has occured in seasons from `2008` to `2023`\n",
    "    - Seasons with `0` super overs are `2008`, `2009`, `2010`, `2011`, `2012`, `2016`, `2018`, `2022` and `2023`.\n",
    "    - Highest super overs occured in season `2020` and i.e. `4`"
   ]
  },
  {
   "cell_type": "markdown",
   "id": "de578a58",
   "metadata": {
    "papermill": {
     "duration": 0.030968,
     "end_time": "2023-06-16T16:43:03.074243",
     "exception": false,
     "start_time": "2023-06-16T16:43:03.043275",
     "status": "completed"
    },
    "tags": []
   },
   "source": [
    "### Q4:  Top 10 stadium with most number of matches played"
   ]
  },
  {
   "cell_type": "code",
   "execution_count": 35,
   "id": "d4917043",
   "metadata": {
    "execution": {
     "iopub.execute_input": "2023-06-16T16:43:03.135383Z",
     "iopub.status.busy": "2023-06-16T16:43:03.134921Z",
     "iopub.status.idle": "2023-06-16T16:43:03.146086Z",
     "shell.execute_reply": "2023-06-16T16:43:03.145245Z"
    },
    "papermill": {
     "duration": 0.044353,
     "end_time": "2023-06-16T16:43:03.148175",
     "exception": false,
     "start_time": "2023-06-16T16:43:03.103822",
     "status": "completed"
    },
    "tags": []
   },
   "outputs": [
    {
     "data": {
      "text/plain": [
       "Wankhede Stadium, Mumbai                                            111\n",
       "M.Chinnaswamy Stadium, Bengaluru                                     90\n",
       "Eden Gardens, Kolkata                                                88\n",
       "Arun Jaitley Stadium, Delhi                                          86\n",
       "MA Chidambaram Stadium, Chepauk, Chennai                             74\n",
       "Rajiv Gandhi International Stadium, Uppal, Hyderabad                 71\n",
       "Punjab Cricket Association IS Bindra Stadium, Mohali, Chandigarh     61\n",
       "Sawai Mansingh Stadium, Jaipur                                       52\n",
       "Maharashtra Cricket Association Stadium, Pune                        51\n",
       "Dubai International Cricket Stadium                                  46\n",
       "Name: venue_name, dtype: int64"
      ]
     },
     "execution_count": 35,
     "metadata": {},
     "output_type": "execute_result"
    }
   ],
   "source": [
    "stadiums = data['venue_name']\n",
    "stadiums = stadiums.value_counts()\n",
    "stadiums = stadiums.sort_values(ascending=False)\n",
    "stadiums = stadiums.head(10)\n",
    "\n",
    "stadiums"
   ]
  },
  {
   "cell_type": "code",
   "execution_count": 36,
   "id": "f1a23686",
   "metadata": {
    "execution": {
     "iopub.execute_input": "2023-06-16T16:43:03.210638Z",
     "iopub.status.busy": "2023-06-16T16:43:03.209722Z",
     "iopub.status.idle": "2023-06-16T16:43:03.735160Z",
     "shell.execute_reply": "2023-06-16T16:43:03.734269Z"
    },
    "papermill": {
     "duration": 0.559713,
     "end_time": "2023-06-16T16:43:03.737271",
     "exception": false,
     "start_time": "2023-06-16T16:43:03.177558",
     "status": "completed"
    },
    "tags": []
   },
   "outputs": [
    {
     "data": {
      "image/png": "[encoded data removed]",
      "text/plain": [
       "<Figure size 900x500 with 1 Axes>"
      ]
     },
     "metadata": {
      "needs_background": "light"
     },
     "output_type": "display_data"
    }
   ],
   "source": [
    "stadiums.plot(kind='bar',color='purple',alpha=0.7)\n",
    "plt.title('Top 10 Stadiums with most matches played')\n",
    "plt.xlabel('Stadium Names')\n",
    "plt.ylabel('Number of matches Played')\n",
    "plt.show()"
   ]
  },
  {
   "cell_type": "markdown",
   "id": "4c1f3be5",
   "metadata": {
    "papermill": {
     "duration": 0.031136,
     "end_time": "2023-06-16T16:43:03.799684",
     "exception": false,
     "start_time": "2023-06-16T16:43:03.768548",
     "status": "completed"
    },
    "tags": []
   },
   "source": [
    "By this graph we get an idea that:\n",
    "- In `Wankhede Stadium, Mumbai` stadium most highest number of matches are played\n",
    "- There is a large difference between `1st` and `10th` stadium in number of matches played"
   ]
  },
  {
   "cell_type": "markdown",
   "id": "c57d428f",
   "metadata": {
    "papermill": {
     "duration": 0.031184,
     "end_time": "2023-06-16T16:43:03.862596",
     "exception": false,
     "start_time": "2023-06-16T16:43:03.831412",
     "status": "completed"
    },
    "tags": []
   },
   "source": [
    "### Q5: Which team looses most number of wickets in entire dataset (`home_team` or `away_team`)"
   ]
  },
  {
   "cell_type": "code",
   "execution_count": 37,
   "id": "8c4b4511",
   "metadata": {
    "execution": {
     "iopub.execute_input": "2023-06-16T16:43:03.929397Z",
     "iopub.status.busy": "2023-06-16T16:43:03.928745Z",
     "iopub.status.idle": "2023-06-16T16:43:03.935394Z",
     "shell.execute_reply": "2023-06-16T16:43:03.934521Z"
    },
    "papermill": {
     "duration": 0.042814,
     "end_time": "2023-06-16T16:43:03.937517",
     "exception": false,
     "start_time": "2023-06-16T16:43:03.894703",
     "status": "completed"
    },
    "tags": []
   },
   "outputs": [
    {
     "name": "stdout",
     "output_type": "stream",
     "text": [
      "Away Team looses more wickets i.e. 6052\n"
     ]
    }
   ],
   "source": [
    "home_wick = data['home_wickets'].sum()\n",
    "away_wick = data['away_wickets'].sum()\n",
    "\n",
    "if home_wick > away_wick:\n",
    "    print('Home Team looses more wickets i.e.', home_wick)\n",
    "elif away_wick > home_wick:\n",
    "    print('Away Team looses more wickets i.e.', away_wick)\n",
    "else:\n",
    "    print('Both team looses same number of wickets i.e.', home_wick)"
   ]
  },
  {
   "cell_type": "code",
   "execution_count": 38,
   "id": "a30a5dce",
   "metadata": {
    "execution": {
     "iopub.execute_input": "2023-06-16T16:43:04.004362Z",
     "iopub.status.busy": "2023-06-16T16:43:04.003437Z",
     "iopub.status.idle": "2023-06-16T16:43:04.170369Z",
     "shell.execute_reply": "2023-06-16T16:43:04.168883Z"
    },
    "papermill": {
     "duration": 0.205982,
     "end_time": "2023-06-16T16:43:04.175679",
     "exception": false,
     "start_time": "2023-06-16T16:43:03.969697",
     "status": "completed"
    },
    "tags": []
   },
   "outputs": [
    {
     "data": {
      "image/png": "[encoded data removed]",
      "text/plain": [
       "<Figure size 900x500 with 1 Axes>"
      ]
     },
     "metadata": {},
     "output_type": "display_data"
    }
   ],
   "source": [
    "plt.pie([home_wick,away_wick],labels=['Home Wickets','Away Wickets'],autopct='%1.1f%%',colors=['#eb955b','#de5275'])\n",
    "plt.title('Home Wickets VS Away Wickets')\n",
    "plt.show()"
   ]
  },
  {
   "cell_type": "markdown",
   "id": "7675c26e",
   "metadata": {
    "papermill": {
     "duration": 0.03326,
     "end_time": "2023-06-16T16:43:04.261709",
     "exception": false,
     "start_time": "2023-06-16T16:43:04.228449",
     "status": "completed"
    },
    "tags": []
   },
   "source": [
    "According to this pie chart we can conclude that:\n",
    "\n",
    "- About `49.4%` wickets lost by `Home Team`\n",
    "- About `50.6%` whickets lost by `Away Team`\n",
    "- While both percentage are nearly tends to same but yeah there is a difference"
   ]
  },
  {
   "cell_type": "markdown",
   "id": "cd4a395f",
   "metadata": {
    "papermill": {
     "duration": 0.032604,
     "end_time": "2023-06-16T16:43:04.329436",
     "exception": false,
     "start_time": "2023-06-16T16:43:04.296832",
     "status": "completed"
    },
    "tags": []
   },
   "source": [
    "## Inferences and Conclusion\n",
    "\n",
    "After analyzing this `Cricket` data we got to know about various information like in which season which team scored most runs and if we won toss is there any change we will win match also and much more\n",
    "\n",
    "**Inferences**\n",
    "- Examining team win-loss records and their performance in various seasons can highlight the most successful IPL teams\n",
    "- Studying the performance of teams on their home grounds can help understand the impact of home advantage in the IPL.\n",
    "- Identifying teams that have benefited from specific players' contributions can shed light on the significance of player-team dynamics.\n",
    "\n",
    "**Conclusions**\n",
    "- Some teams have consistently performed well in the IPL, evident from their high win-loss records and impressive average runs scored and conceded.\n",
    "- The outcome of the toss does not significantly influence the overall result of IPL matches.\n",
    "- The coin toss does not seem to play a decisive role in determining the winner, indicating that teams can succeed regardless of winning or losing the toss."
   ]
  },
  {
   "cell_type": "markdown",
   "id": "237fcfab",
   "metadata": {
    "papermill": {
     "duration": 0.032824,
     "end_time": "2023-06-16T16:43:04.395109",
     "exception": false,
     "start_time": "2023-06-16T16:43:04.362285",
     "status": "completed"
    },
    "tags": []
   },
   "source": [
    "## References and Future Work\n",
    "\n",
    "Well the references I used for this project is the course itself and pandas , matplotlib official documentations\n",
    "In future i am planing to do deep analysis of this dataset\n",
    "\n",
    "**References**\n",
    "- The dataset used in this project was downloaded from kaggle [LINK](https://www.kaggle.com/datasets/namangarg2075/ipl-match-dataset-2008-2023) and did modification by own\n",
    "- I used official documentations of libraries like pandas, seaborn\n",
    "- I took guidance from various other online jupyter notebooks (Also from kaggle)\n",
    "\n",
    "**Future Work**\n",
    "- In future I will do deep analysis on this dataset as it required some more learning for me\n",
    "- After this project i will share this notebook with other data analyst users to get feedback about my work"
   ]
  }
 ],
 "metadata": {
  "kernelspec": {
   "display_name": "Python 3",
   "language": "python",
   "name": "python3"
  },
  "language_info": {
   "codemirror_mode": {
    "name": "ipython",
    "version": 3
   },
   "file_extension": ".py",
   "mimetype": "text/x-python",
   "name": "python",
   "nbconvert_exporter": "python",
   "pygments_lexer": "ipython3",
   "version": "3.10.10"
  },
  "papermill": {
   "default_parameters": {},
   "duration": 26.359338,
   "end_time": "2023-06-16T16:43:05.654864",
   "environment_variables": {},
   "exception": null,
   "input_path": "__notebook__.ipynb",
   "output_path": "__notebook__.ipynb",
   "parameters": {},
   "start_time": "2023-06-16T16:42:39.295526",
   "version": "2.4.0"
  }
 },
 "nbformat": 4,
 "nbformat_minor": 5
}
